{
 "cells": [
  {
   "cell_type": "markdown",
   "metadata": {},
   "source": [
    "# Decorators"
   ]
  },
  {
   "cell_type": "markdown",
   "metadata": {},
   "source": [
    "Decoratorii permit adăugarea de funcționalități unei funcții deja existente. Decoratorii se bazează pe faptul că poți pasa funcții altor funcții drept argumente."
   ]
  },
  {
   "cell_type": "code",
   "execution_count": 42,
   "metadata": {},
   "outputs": [],
   "source": [
    "def decorator_nou(functie_de_decorat):\n",
    "    def utilare_suplimentara():\n",
    "        elem_decorativ = 2\n",
    "        functie_de_decorat(elem_decorativ)\n",
    "    return utilare_suplimentara"
   ]
  },
  {
   "cell_type": "markdown",
   "metadata": {},
   "source": [
    "Ceea ce face un decorator este să ia o funcție pe care o primește drept argument, în corp declară altă funcție care preia argumentul funcție. În acest moment, se fac prelucrări de date printre care se va executa și funcția care trebuie decorată. La final, este returnată funcția care decorează propriu-zis pe cea primită drept argument."
   ]
  },
  {
   "cell_type": "code",
   "execution_count": 43,
   "metadata": {},
   "outputs": [],
   "source": [
    "def pentru_decorat(val):\n",
    "    print('Vreau sa fiu îmbunătățită')\n",
    "    print(val)"
   ]
  },
  {
   "cell_type": "code",
   "execution_count": 44,
   "metadata": {},
   "outputs": [
    {
     "name": "stdout",
     "output_type": "stream",
     "text": [
      "Vreau sa fiu îmbunătățită\n",
      "2\n"
     ]
    }
   ],
   "source": [
    "test = decorator_nou(pentru_decorat)\n",
    "test()"
   ]
  },
  {
   "cell_type": "markdown",
   "metadata": {},
   "source": [
    "Pentru a realiza acești pași folosid o sintaxă mai simplă, se va folosi `@`"
   ]
  },
  {
   "cell_type": "code",
   "execution_count": 45,
   "metadata": {},
   "outputs": [],
   "source": [
    "@decorator_nou\n",
    "def pentru_a_decora(val):\n",
    "    print('Vreau sa fiu îmbunătățită')\n",
    "    print(val)"
   ]
  },
  {
   "cell_type": "code",
   "execution_count": null,
   "metadata": {},
   "outputs": [],
   "source": []
  }
 ],
 "metadata": {
  "kernelspec": {
   "display_name": "Python 3",
   "language": "python",
   "name": "python3"
  },
  "language_info": {
   "codemirror_mode": {
    "name": "ipython",
    "version": 3
   },
   "file_extension": ".py",
   "mimetype": "text/x-python",
   "name": "python",
   "nbconvert_exporter": "python",
   "pygments_lexer": "ipython3",
   "version": "3.6.7"
  }
 },
 "nbformat": 4,
 "nbformat_minor": 2
}
