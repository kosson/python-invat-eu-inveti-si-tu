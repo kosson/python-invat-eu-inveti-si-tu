{
 "cells": [
  {
   "cell_type": "markdown",
   "metadata": {},
   "source": [
    "# Introducere"
   ]
  },
  {
   "cell_type": "markdown",
   "metadata": {},
   "source": [
    "Acest limbaj de programare este creația lui Guido van Rossum, care spre finalul anilor 80 ai secolului trecut, a pornit dezvoltarea sa. Dezvoltarea limbajului se face pe baza unor documente intitulate *Python Ehnhancement Proposals* (PEP). De exemplu, indentarea codului sursă este gestionată de PEP8, care spune că o indentare se face cu patru spații. Cel mai important PEP, care este accesibil chiar din consola Python (`import this`) este PEP20, așa-numitul *The Zen of Python*:\n",
    "\n",
    "```text\n",
    ">>> import this\n",
    "The Zen of Python, by Tim Peters\n",
    "\n",
    "Beautiful is better than ugly.\n",
    "Explicit is better than implicit.\n",
    "Simple is better than complex.\n",
    "Complex is better than complicated.\n",
    "Flat is better than nested.\n",
    "Sparse is better than dense.\n",
    "Readability counts.\n",
    "Special cases aren't special enough to break the rules.\n",
    "Although practicality beats purity.\n",
    "Errors should never pass silently.\n",
    "Unless explicitly silenced.\n",
    "In the face of ambiguity, refuse the temptation to guess.\n",
    "There should be one-- and preferably only one --obvious way to do it.\n",
    "Although that way may not be obvious at first unless you're Dutch.\n",
    "Now is better than never.\n",
    "Although never is often better than *right* now.\n",
    "If the implementation is hard to explain, it's a bad idea.\n",
    "If the implementation is easy to explain, it may be a good idea.\n",
    "Namespaces are one honking great idea -- let's do more of those!\n",
    "```\n",
    "\n",
    "Pyton este un limbaj de programare dinamic care este folosit preponderent în lucrul cu datele. Manualul de referință poate fi consultat la https://docs.python.org/3.6/reference/index.html#reference-index. Python vine cu o bibliotecă de cod din oficiu [Standard Python Library](https://docs.python.org/3/library/index.html) pachete care sunt incluse în distribuții.\n",
    "\n",
    "Biblioteca de cod conține module scrise în C care oferă acces la funcționalitățile sistemului. Module specializate rezolvă diferite probleme de programare uzuale. Aceste module formează Biblioteca Standard Python - Python Standard Library (https://docs.python.org/3.7/library/index.html).\n",
    "\n",
    "Aflat în mediul Python, care poate fi inițiat lasând comanda `python` din consolă, poți obține informații utile privind Biblioteca Standard, dacă apelezi comada `help(nume_pachet)` căreia îi pasezi numele pachetului pentru care soliciți asistență. Pentru a avea acces la informația de asistență, este nevoie să imporți modulul dorit. Toate pachetele disponibile în Biblioteca Standard pentru a fi folosite, mai întâi trebuie importate. De exemplu, pentru a importa pachetul `math`, din consola Python, vom importa `import math`."
   ]
  },
  {
   "cell_type": "markdown",
   "metadata": {},
   "source": [
    "Pentru a rula cod Python ai nevoie de un interpretor, care poate fi descărcat și instalat de la python.org. Python este un limbaj de programare dinamic ceea ce înseamnă că valorile indică și tipul lor. \n",
    "\n",
    "În Python totul este un obiect, chiar și clasele. Clasele, din postura lor de obiecte au și ele o clasă numită metaclasă."
   ]
  },
  {
   "cell_type": "markdown",
   "metadata": {},
   "source": [
    "Spațiile sau taburile de la începutul liniei logice sunt folosite pentru a calcula identarea liniei. Identarea determină grupurile declarațiilor. Un fișier al codului sursă care combină spațiile cu tab-urile pentru a realiza identările, va conduce la semnalarea unei erori."
   ]
  },
  {
   "cell_type": "markdown",
   "metadata": {},
   "source": [
    "## Tipuri de date\n",
    "\n",
    "### Numere\n",
    "\n",
    "Numerele în Python sunt întregi din care fac parte și valorile boolean și cele care nu sunt întregi cum ar fi floats (c double), numere complexe, zecimale și raționale.\n",
    "\n",
    "### Structuri de date - colecții\n",
    "\n",
    "**Secvențele** sunt colecții de valori care pot fi modificate (mutable) sau nu (imutable). Cele mutable sunt listele `[1,2,3]` și cele care nu sunt mutabile: `tuples` și `strings`.\n",
    "\n",
    "**Seturile** sunt și ele subîmpărțite în cele care pot fi modificate `Sets`, iar cele care nu pot fi modificate se numesc `Frozen Sets`.\n",
    "\n",
    "**Mapările** sau dicționarele sunt înrudite cu seturile pentru că ambele sunt, de fapt hashmaps. Diferența între acestea și seturi este că dicționarele sunt structuri cheie - valoare.\n",
    "\n",
    "### Callables - apelabile\n",
    "\n",
    "Acestea pot fi funcții definite de utilizator, generatoare, clase, instance methods, instanțe de clase care pot fi apelate (`__call__()`). Pe lângă toate acestea mai avem funcțiile built-in cum este `len()`, de exemplu și metode built-in (`lista_elemente.append(x)`).\n",
    "\n",
    "### Singleton-uri\n",
    "\n",
    "#### None\n",
    "\n",
    "Este un obiect unic folosit pentru a seta valoarea unei variabile atunci când este necesar.\n",
    "\n",
    "#### NotImplemented"
   ]
  },
  {
   "cell_type": "markdown",
   "metadata": {},
   "source": []
  },
  {
   "cell_type": "markdown",
   "metadata": {},
   "source": [
    "#### Elipsis(...)"
   ]
  },
  {
   "cell_type": "code",
   "execution_count": null,
   "metadata": {},
   "outputs": [],
   "source": []
  }
 ],
 "metadata": {
  "kernelspec": {
   "display_name": "Python 3",
   "language": "python",
   "name": "python3"
  },
  "language_info": {
   "codemirror_mode": {
    "name": "ipython",
    "version": 3
   },
   "file_extension": ".py",
   "mimetype": "text/x-python",
   "name": "python",
   "nbconvert_exporter": "python",
   "pygments_lexer": "ipython3",
   "version": "3.6.7"
  }
 },
 "nbformat": 4,
 "nbformat_minor": 2
}
