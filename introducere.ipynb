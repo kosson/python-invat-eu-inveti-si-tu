{
 "cells": [
  {
   "cell_type": "markdown",
   "metadata": {},
   "source": [
    "# Introducere"
   ]
  },
  {
   "cell_type": "markdown",
   "metadata": {},
   "source": [
    "Pyton este un limbaj de programare dinamic care este folosit preponderent în lucrul cu datele. Manualul de referință poate fi consultat la https://docs.python.org/3.6/reference/index.html#reference-index. Python vine cu o bibliotecă de cod din oficiu și câteva componente care sunt încluse în distribuții.\n",
    "Biblioteca de cod conține module scrise în C care oferă acces la funcționalitățile sistemului. Module specializate rezolvă diferite probleme de programare uzuale. Aceste module formează Biblioteca Standard Python - Python Standard Library (https://docs.python.org/3.6/library/index.html).\n",
    "Un text introductiv folositor este cel al tutorialului de la https://docs.python.org/3.6/library/index.html"
   ]
  },
  {
   "cell_type": "markdown",
   "metadata": {},
   "source": [
    "Pentru a rula cod Python ai nevoie de un interpretor, care poate fi descărcat și instalat de la python.org. Python este un limbaj de programare dinamic ceea ce înseamnă că valorile indică și tipul lor. În Python totul este un obiect, chiar și clasele. Clasele, din postura lor de obiecte au și ele o clasă numită metaclasă."
   ]
  },
  {
   "cell_type": "markdown",
   "metadata": {},
   "source": [
    "Spațiile sau taburile de la începutul liniei logice sunt folosite pentru a calcula identarea liniei. Identarea determină grupurile declarațiilor. Un fișier al codului sursă care combină spațiile cu tab-urile pentru a realiza identările, va conduce la semnalarea unei erori."
   ]
  },
  {
   "cell_type": "markdown",
   "metadata": {},
   "source": [
    "## Tipuri de date"
   ]
  },
  {
   "cell_type": "markdown",
   "metadata": {},
   "source": [
    "### Numere"
   ]
  },
  {
   "cell_type": "markdown",
   "metadata": {},
   "source": [
    "Numerele în Python sunt întregi din care fac parte și valorile boolean și cele care nu sunt întregi cum ar fi floats (c double), numere complexe, zecimale și raționale."
   ]
  },
  {
   "cell_type": "markdown",
   "metadata": {},
   "source": [
    "### Structuri de date - colecții"
   ]
  },
  {
   "cell_type": "markdown",
   "metadata": {},
   "source": [
    "**Secvențele** sunt colecții de valori care pot fi modificate (mutable) sau nu (imutable). Cele mutable sunt listele `[1,2,3]` și cele care nu sunt mutabile: `tuples` și `strings`."
   ]
  },
  {
   "cell_type": "markdown",
   "metadata": {},
   "source": [
    "**Seturile** sunt și ele subîmpărțite în cele care pot fi modificate `Sets`, iar cele care nu pot fi modificate se numesc `Frozen Sets`."
   ]
  },
  {
   "cell_type": "markdown",
   "metadata": {},
   "source": [
    "**Mapările** sau dicționarele sunt înrudite cu seturile pentru că ambele sunt, de fapt hashmaps. Diferența între acestea și seturi este că dicționarele sunt structuri cheie - valoare."
   ]
  },
  {
   "cell_type": "markdown",
   "metadata": {},
   "source": [
    "### Callables - apelabile"
   ]
  },
  {
   "cell_type": "markdown",
   "metadata": {},
   "source": [
    "Acestea pot fi funcții definite de utilizator, generatoare, clase, instance methods, instanțe de clase care pot fi apelate (`__call__()`). Pe lângă toate acestea mai avem funcțiile built-in cum este `len()`, de exemplu și metode built-in (`lista_elemente.append(x)`)."
   ]
  },
  {
   "cell_type": "markdown",
   "metadata": {},
   "source": [
    "### Singleton-uri"
   ]
  },
  {
   "cell_type": "markdown",
   "metadata": {},
   "source": [
    "#### None"
   ]
  },
  {
   "cell_type": "markdown",
   "metadata": {},
   "source": [
    "Este un obiect unic folosit pentru a seta valoarea unei variabile atunci când este necesar."
   ]
  },
  {
   "cell_type": "markdown",
   "metadata": {},
   "source": [
    "#### NotImplemented"
   ]
  },
  {
   "cell_type": "markdown",
   "metadata": {},
   "source": [
    "#### Elipsis(...)"
   ]
  },
  {
   "cell_type": "code",
   "execution_count": null,
   "metadata": {},
   "outputs": [],
   "source": []
  }
 ],
 "metadata": {
  "celltoolbar": "Edit Metadata",
  "kernelspec": {
   "display_name": "Python 3",
   "language": "python",
   "name": "python3"
  },
  "language_info": {
   "codemirror_mode": {
    "name": "ipython",
    "version": 3
   },
   "file_extension": ".py",
   "mimetype": "text/x-python",
   "name": "python",
   "nbconvert_exporter": "python",
   "pygments_lexer": "ipython3",
   "version": "3.6.6"
  }
 },
 "nbformat": 4,
 "nbformat_minor": 2
}
