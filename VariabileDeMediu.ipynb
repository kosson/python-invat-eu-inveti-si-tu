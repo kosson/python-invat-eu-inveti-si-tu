{
 "cells": [
  {
   "cell_type": "markdown",
   "metadata": {},
   "source": [
    "# Variabile de mediu"
   ]
  },
  {
   "cell_type": "markdown",
   "metadata": {},
   "source": [
    "Informații în limba engleză pot fi găsite la https://docs.python.org/3/using/cmdline.html\n",
    "\n"
   ]
  },
  {
   "cell_type": "markdown",
   "metadata": {},
   "source": [
    "Comportamentul interpretorului Python este influiențată de variabilele de mediu. Acestea sunt prelucrate înainte de a fi luate în considerare directivele din linia de comandă cu excepția `-E` și `-l`. În momentul în care sunt întâmpinate conflicte cu mediul, se va încerca rezolvarea folosindu-se directivele din linia de comandă."
   ]
  },
  {
   "cell_type": "markdown",
   "metadata": {},
   "source": [
    "## PYTHONHOME"
   ]
  },
  {
   "cell_type": "markdown",
   "metadata": {},
   "source": [
    "Poți specifica locația nouă pentru modulele standard ale Python. Din oficiu, modulele standard sunt puse în `~/.lib/python3.6`"
   ]
  },
  {
   "cell_type": "markdown",
   "metadata": {},
   "source": [
    "## PYTHONPATH"
   ]
  },
  {
   "cell_type": "markdown",
   "metadata": {},
   "source": [
    "În această variabilă de mediu se precizează calea în care vor fi căutate modulele. Modul de redactare este același precum cel al variabilelor de shell. Se vor preciza directorele separate de două puncte. Directoarele care nu există vor fi ignorate tacit."
   ]
  },
  {
   "cell_type": "code",
   "execution_count": null,
   "metadata": {},
   "outputs": [],
   "source": []
  }
 ],
 "metadata": {
  "kernelspec": {
   "display_name": "Python 3",
   "language": "python",
   "name": "python3"
  },
  "language_info": {
   "codemirror_mode": {
    "name": "ipython",
    "version": 3
   },
   "file_extension": ".py",
   "mimetype": "text/x-python",
   "name": "python",
   "nbconvert_exporter": "python",
   "pygments_lexer": "ipython3",
   "version": "3.6.6"
  }
 },
 "nbformat": 4,
 "nbformat_minor": 2
}
