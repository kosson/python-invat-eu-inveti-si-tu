{
 "cells": [
  {
   "cell_type": "markdown",
   "metadata": {},
   "source": [
    "# Obiecte iterabile"
   ]
  },
  {
   "cell_type": "markdown",
   "metadata": {},
   "source": [
    "Urmează explorarea conceptului de iterabil în Python.\n",
    "\n"
   ]
  },
  {
   "cell_type": "markdown",
   "metadata": {},
   "source": [
    "## Liste"
   ]
  },
  {
   "cell_type": "code",
   "execution_count": 5,
   "metadata": {},
   "outputs": [
    {
     "name": "stdout",
     "output_type": "stream",
     "text": [
      "unu\n",
      "doi\n",
      "trei\n"
     ]
    }
   ],
   "source": [
    "lista = ['unu', 'doi', 'trei']\n",
    "for elem in lista:\n",
    "    print(elem)"
   ]
  },
  {
   "cell_type": "code",
   "execution_count": 12,
   "metadata": {},
   "outputs": [
    {
     "name": "stdout",
     "output_type": "stream",
     "text": [
      "2\n",
      "34\n",
      "keke\n",
      "12\n",
      "34\n",
      "Sunt tare: 55\n",
      "62\n"
     ]
    }
   ],
   "source": [
    "numere = [2, 34, 5, 12, 34, 55, 62]\n",
    "for nr in numere:\n",
    "    if nr % 2 == 0:\n",
    "        print(nr)\n",
    "    elif nr > 30:\n",
    "        print(f'Sunt tare: {nr}')\n",
    "    else:\n",
    "        print('keke')"
   ]
  },
  {
   "cell_type": "code",
   "execution_count": 15,
   "metadata": {},
   "outputs": [
    {
     "name": "stdout",
     "output_type": "stream",
     "text": [
      "204\n"
     ]
    }
   ],
   "source": [
    "sumaNrLista = 0\n",
    "for nr in numere:\n",
    "    sumaNrLista = sumaNrLista + nr\n",
    "print(sumaNrLista)"
   ]
  },
  {
   "cell_type": "markdown",
   "metadata": {},
   "source": [
    "Tuples and packing sunt fooooarte interesante în Python."
   ]
  },
  {
   "cell_type": "code",
   "execution_count": 2,
   "metadata": {},
   "outputs": [
    {
     "name": "stdout",
     "output_type": "stream",
     "text": [
      "Prima din tuple: 2\n",
      "Prima din tuple: 4\n",
      "Prima din tuple: 56\n"
     ]
    }
   ],
   "source": [
    "listaDeTuples = [(2,4), (4,8), (56,23)]\n",
    "for (x, y) in listaDeTuples:\n",
    "    print(f'Prima din tuple: {x}')"
   ]
  },
  {
   "cell_type": "markdown",
   "metadata": {},
   "source": [
    "Asta se numește tuple unpacking"
   ]
  },
  {
   "cell_type": "code",
   "execution_count": 20,
   "metadata": {},
   "outputs": [
    {
     "name": "stdout",
     "output_type": "stream",
     "text": [
      "1\n",
      "2\n"
     ]
    }
   ],
   "source": [
    "dicționar = {'k1': 1, 'k2': 2}\n",
    "for elem in dicționar:\n",
    "    print(dicționar[elem])"
   ]
  },
  {
   "cell_type": "markdown",
   "metadata": {},
   "source": [
    "Cam așa se iterează un dicționar. Dar poți trece și printr-un dicționar obținând tuples"
   ]
  },
  {
   "cell_type": "code",
   "execution_count": 21,
   "metadata": {},
   "outputs": [
    {
     "name": "stdout",
     "output_type": "stream",
     "text": [
      "('k1', 1)\n",
      "('k2', 2)\n"
     ]
    }
   ],
   "source": [
    "for elem in dicționar.items():\n",
    "    print(elem)\n",
    "    # Și tocmai ai generat niște tuples"
   ]
  },
  {
   "cell_type": "markdown",
   "metadata": {},
   "source": [
    "Acum poți extrage valorile"
   ]
  },
  {
   "cell_type": "code",
   "execution_count": 22,
   "metadata": {},
   "outputs": [
    {
     "name": "stdout",
     "output_type": "stream",
     "text": [
      "1\n",
      "2\n"
     ]
    }
   ],
   "source": [
    "for cheie, valoare in dicționar.items():\n",
    "    print(valoare)"
   ]
  },
  {
   "cell_type": "markdown",
   "metadata": {},
   "source": [
    "Acest lucru a fost posibil pentru că am folosit tuple unpacking"
   ]
  },
  {
   "cell_type": "markdown",
   "metadata": {},
   "source": [
    "Dacă dorești doar valorile, enunțul este mult simplificat"
   ]
  },
  {
   "cell_type": "code",
   "execution_count": 24,
   "metadata": {},
   "outputs": [
    {
     "name": "stdout",
     "output_type": "stream",
     "text": [
      "1\n",
      "2\n"
     ]
    }
   ],
   "source": [
    "for valoare in dicționar.values():\n",
    "    print(valoare)"
   ]
  },
  {
   "cell_type": "markdown",
   "metadata": {},
   "source": [
    "## Bucle"
   ]
  },
  {
   "cell_type": "markdown",
   "metadata": {},
   "source": [
    "### While"
   ]
  },
  {
   "cell_type": "code",
   "execution_count": 27,
   "metadata": {},
   "outputs": [
    {
     "name": "stdout",
     "output_type": "stream",
     "text": [
      "Am terminat\n"
     ]
    }
   ],
   "source": [
    "# x = 0\n",
    "x = 20\n",
    "while x < 6:\n",
    "    print(x)\n",
    "    x += 1\n",
    "else:\n",
    "    print('Am terminat')"
   ]
  },
  {
   "cell_type": "markdown",
   "metadata": {},
   "source": [
    "## For"
   ]
  },
  {
   "cell_type": "markdown",
   "metadata": {},
   "source": [
    "Atunci când ai o buclă, dar pentru un motiv încă nu vrei să o activezi, poți folosi cuvântul cheie *pass* pentru a trece peste ea fără a o declanșa."
   ]
  },
  {
   "cell_type": "code",
   "execution_count": 28,
   "metadata": {},
   "outputs": [
    {
     "name": "stdout",
     "output_type": "stream",
     "text": [
      "Am trecut de buclă\n"
     ]
    }
   ],
   "source": [
    "lista = [1, 2, 3]\n",
    "for elem in lista:\n",
    "    pass\n",
    "\n",
    "print('Am trecut de buclă')"
   ]
  },
  {
   "cell_type": "markdown",
   "metadata": {},
   "source": [
    "În caz că este necesar se poate face salt peste o anumită valoare."
   ]
  },
  {
   "cell_type": "code",
   "execution_count": 29,
   "metadata": {},
   "outputs": [
    {
     "name": "stdout",
     "output_type": "stream",
     "text": [
      "c\n",
      "v\n",
      "a\n"
     ]
    }
   ],
   "source": [
    "cuvant = 'ceva'\n",
    "for char in cuvant:\n",
    "    if char == 'e':\n",
    "        continue\n",
    "    print(char)"
   ]
  },
  {
   "cell_type": "markdown",
   "metadata": {},
   "source": [
    "Folosirea cuvântului cheie `break` conduce la ieșirea din iterare."
   ]
  },
  {
   "cell_type": "markdown",
   "metadata": {},
   "source": [
    "## Limite"
   ]
  },
  {
   "cell_type": "markdown",
   "metadata": {},
   "source": [
    "În Python poți genera un interval pe care să-l parcurgi folosind `range()`. Numărul specificat indică un interval ce nu include și numărul specificat. Dacă este nevoie, poți specifica în interval și limita de la care se pornește iterarea. Al treilea argument ar fi pasul din care să se facă un salt în iterare dacă acest lucru este necesar."
   ]
  },
  {
   "cell_type": "code",
   "execution_count": 32,
   "metadata": {},
   "outputs": [
    {
     "name": "stdout",
     "output_type": "stream",
     "text": [
      "2\n",
      "4\n",
      "6\n",
      "8\n",
      "10\n",
      "12\n",
      "14\n"
     ]
    }
   ],
   "source": [
    "# for elem in range(5):\n",
    "for elem in range(2,15,2):\n",
    "    print(elem)"
   ]
  },
  {
   "cell_type": "markdown",
   "metadata": {},
   "source": [
    "Natura lui `range()` este un generator. Din acest motiv, folosind metoda `list()`, poți transforma generatorul într-o listă."
   ]
  },
  {
   "cell_type": "code",
   "execution_count": 36,
   "metadata": {},
   "outputs": [
    {
     "data": {
      "text/plain": [
       "[2, 4, 6, 8]"
      ]
     },
     "execution_count": 36,
     "metadata": {},
     "output_type": "execute_result"
    }
   ],
   "source": [
    "list(range(2,10,2))"
   ]
  },
  {
   "cell_type": "markdown",
   "metadata": {},
   "source": [
    "De cele mai multe ori vei avea nevoie să ții evidența indexului la care te afli atunci când parcurgi o listă."
   ]
  },
  {
   "cell_type": "code",
   "execution_count": 35,
   "metadata": {},
   "outputs": [
    {
     "name": "stdout",
     "output_type": "stream",
     "text": [
      "Idx 0 are val c\n",
      "Idx 1 are val e\n",
      "Idx 2 are val v\n",
      "Idx 3 are val a\n"
     ]
    }
   ],
   "source": [
    "idx = 0\n",
    "for char in 'ceva':\n",
    "    print('Idx {} are val {}'.format(idx, char))\n",
    "    idx += 1"
   ]
  },
  {
   "cell_type": "markdown",
   "metadata": {},
   "source": [
    "Pentru simplificarea acestei operațiuni, Python pune la dispoziție funcția internă `enumerate()`."
   ]
  },
  {
   "cell_type": "code",
   "execution_count": 37,
   "metadata": {},
   "outputs": [
    {
     "name": "stdout",
     "output_type": "stream",
     "text": [
      "(0, 'c')\n",
      "(1, 'e')\n",
      "(2, 'v')\n",
      "(3, 'a')\n",
      "(4, ' ')\n",
      "(5, 'e')\n",
      "(6, ' ')\n",
      "(7, 'a')\n",
      "(8, 'l')\n",
      "(9, 't')\n",
      "(10, 'c')\n",
      "(11, 'e')\n",
      "(12, 'v')\n",
      "(13, 'a')\n"
     ]
    }
   ],
   "source": [
    "text = 'ceva e altceva'\n",
    "for elem in enumerate(text):\n",
    "    print(elem)"
   ]
  },
  {
   "cell_type": "markdown",
   "metadata": {},
   "source": [
    "Ceea ce obții folosind funcția internă sunt `tuples`. Și pentru că avem de a face cu `tuples`, vom putea aplica pentru tuples unpacking, ceea ce va transforma codul în următoarea secvență."
   ]
  },
  {
   "cell_type": "code",
   "execution_count": 38,
   "metadata": {},
   "outputs": [
    {
     "name": "stdout",
     "output_type": "stream",
     "text": [
      "c\n",
      "e\n",
      "v\n",
      "a\n",
      " \n",
      "e\n",
      " \n",
      "a\n",
      "l\n",
      "t\n",
      "c\n",
      "e\n",
      "v\n",
      "a\n"
     ]
    }
   ],
   "source": [
    "for idx, elem in enumerate(text):\n",
    "    print(elem)"
   ]
  },
  {
   "cell_type": "markdown",
   "metadata": {},
   "source": [
    "# Funcția de zipping"
   ]
  },
  {
   "cell_type": "markdown",
   "metadata": {},
   "source": [
    "Acesta este un instrument pentru a genera `tuples` din două liste separate."
   ]
  },
  {
   "cell_type": "code",
   "execution_count": 41,
   "metadata": {},
   "outputs": [
    {
     "name": "stdout",
     "output_type": "stream",
     "text": [
      "(1, 'a', 23)\n",
      "(2, 'b', 34)\n",
      "(3, 'c', 432)\n"
     ]
    }
   ],
   "source": [
    "lista1 = [1, 2, 3, 4]\n",
    "lista2 = ['a', 'b', 'c', 'd']\n",
    "lista3 = [23, 34, 432]\n",
    "\n",
    "# zip(lista1, lista2) ar crea un generator care așteaptă să-ți ofere valori\n",
    "for item in zip(lista1, lista2, lista3):\n",
    "    print(item)"
   ]
  },
  {
   "cell_type": "markdown",
   "metadata": {},
   "source": [
    "Ceea ce generează `zip`- ul este câte un `tupple` pentru fiecare element potrivit din ambele liste. Dacă sunt mai multe, va reuni în tuple toate valorile din toate listele. Dacă sunt liste cu mai puține elemente decât celelalte, acestea numărul tuple-lor generate se va opri la numărul listei celei mai scurte."
   ]
  },
  {
   "cell_type": "markdown",
   "metadata": {},
   "source": [
    "## Operatorul in"
   ]
  },
  {
   "cell_type": "markdown",
   "metadata": {},
   "source": [
    "Operatorul `in` poate fi utilizat și pentru a verifica dacă un anumit element există într-un obiect."
   ]
  },
  {
   "cell_type": "code",
   "execution_count": 42,
   "metadata": {},
   "outputs": [
    {
     "data": {
      "text/plain": [
       "True"
      ]
     },
     "execution_count": 42,
     "metadata": {},
     "output_type": "execute_result"
    }
   ],
   "source": [
    "'a' in ['a', 'b', 'c']"
   ]
  },
  {
   "cell_type": "code",
   "execution_count": 43,
   "metadata": {},
   "outputs": [
    {
     "data": {
      "text/plain": [
       "True"
      ]
     },
     "execution_count": 43,
     "metadata": {},
     "output_type": "execute_result"
    }
   ],
   "source": [
    "'a' in 'abecedar'"
   ]
  },
  {
   "cell_type": "markdown",
   "metadata": {},
   "source": [
    "Poți verifica cu același operator dacă o anumită cheie se află într-un dicționar."
   ]
  },
  {
   "cell_type": "code",
   "execution_count": 44,
   "metadata": {},
   "outputs": [
    {
     "data": {
      "text/plain": [
       "True"
      ]
     },
     "execution_count": 44,
     "metadata": {},
     "output_type": "execute_result"
    }
   ],
   "source": [
    "'ceva' in {'ceva': 10}"
   ]
  },
  {
   "cell_type": "markdown",
   "metadata": {},
   "source": [
    "Poți folosi operatorul și pentru a verifica dacă există o anumită valoare într-un dicționar."
   ]
  },
  {
   "cell_type": "code",
   "execution_count": 45,
   "metadata": {},
   "outputs": [
    {
     "data": {
      "text/plain": [
       "True"
      ]
     },
     "execution_count": 45,
     "metadata": {},
     "output_type": "execute_result"
    }
   ],
   "source": [
    "dicționar = {'cheie': 210}\n",
    "210 in dicționar.values()"
   ]
  },
  {
   "cell_type": "markdown",
   "metadata": {},
   "source": [
    "Câte ceva despre lucru cu valori numerice. Python pune la dispoziție câteva funcții interne cu ajutorul cărora poți obține valoarea maximă și valoarea minimă dintr-o listă, de exemplu."
   ]
  },
  {
   "cell_type": "code",
   "execution_count": 47,
   "metadata": {},
   "outputs": [
    {
     "data": {
      "text/plain": [
       "657"
      ]
     },
     "execution_count": 47,
     "metadata": {},
     "output_type": "execute_result"
    }
   ],
   "source": [
    "listaNumere = [32,3,54,9,21,657]\n",
    "min(listaNumere)\n",
    "max(listaNumere)"
   ]
  },
  {
   "cell_type": "markdown",
   "metadata": {},
   "source": [
    "Pentru a obține un număr aleator, Python pune la dispoziție o bibliotecă de cod numită `random` din care poți face `import`. Biblioteca de cod `random` este una internă Python. Dacă imporți `shuffle` vei putea parcurge aleator o listă și aceasta va fi rearanjată într-o ordine aleatoare."
   ]
  },
  {
   "cell_type": "code",
   "execution_count": 53,
   "metadata": {},
   "outputs": [
    {
     "data": {
      "text/plain": [
       "['c', 'b', 'a']"
      ]
     },
     "execution_count": 53,
     "metadata": {},
     "output_type": "execute_result"
    }
   ],
   "source": [
    "from random import shuffle\n",
    "lista = ['a', 'b', 'c']\n",
    "shuffle(lista)\n",
    "lista"
   ]
  },
  {
   "cell_type": "markdown",
   "metadata": {},
   "source": [
    "Atenție, `shuffle` nu returnează nimic!!! Dacă ai nevoie să extragi un număr aleator, poți face un import tot din biblioteca `random`"
   ]
  },
  {
   "cell_type": "code",
   "execution_count": 56,
   "metadata": {},
   "outputs": [
    {
     "data": {
      "text/plain": [
       "21"
      ]
     },
     "execution_count": 56,
     "metadata": {},
     "output_type": "execute_result"
    }
   ],
   "source": [
    "from random import randint\n",
    "unAleator = randint(3, 23)\n",
    "unAleator"
   ]
  },
  {
   "cell_type": "markdown",
   "metadata": {},
   "source": [
    "Poți specifica lui `randint` un interval din care să genereze valoarea. Pentru că `randint` returnează, valoare poate fi atribuită unei variabile."
   ]
  },
  {
   "cell_type": "markdown",
   "metadata": {},
   "source": [
    "Python are o funcție prin care poate colecta date de la utilizator."
   ]
  },
  {
   "cell_type": "code",
   "execution_count": 1,
   "metadata": {},
   "outputs": [
    {
     "name": "stdout",
     "output_type": "stream",
     "text": [
      "Bagă și tu ceva: teste\n"
     ]
    },
    {
     "data": {
      "text/plain": [
       "str"
      ]
     },
     "execution_count": 1,
     "metadata": {},
     "output_type": "execute_result"
    }
   ],
   "source": [
    "oVariabila = input('Bagă și tu ceva: ')\n",
    "oVariabila\n",
    "type(oVariabila)"
   ]
  },
  {
   "cell_type": "markdown",
   "metadata": {},
   "source": [
    "La folosirea funcției `input`, ceea ce este returnat este o valoare text chiar dacă introduci un număr. Dacă dorești să folosești un număr sau un float, va trebui să faci casting folosind funcții dedicate pentru acest lucru."
   ]
  },
  {
   "cell_type": "code",
   "execution_count": 67,
   "metadata": {},
   "outputs": [
    {
     "data": {
      "text/plain": [
       "5.0"
      ]
     },
     "execution_count": 67,
     "metadata": {},
     "output_type": "execute_result"
    }
   ],
   "source": [
    "float(oVariabila)"
   ]
  },
  {
   "cell_type": "code",
   "execution_count": 68,
   "metadata": {},
   "outputs": [
    {
     "data": {
      "text/plain": [
       "5"
      ]
     },
     "execution_count": 68,
     "metadata": {},
     "output_type": "execute_result"
    }
   ],
   "source": [
    "int(oVariabila)"
   ]
  },
  {
   "cell_type": "markdown",
   "metadata": {},
   "source": [
    "Se poate realiza castingul direct, chiar de la momentul culegerii datelor"
   ]
  },
  {
   "cell_type": "code",
   "execution_count": 69,
   "metadata": {},
   "outputs": [
    {
     "data": {
      "text/plain": [
       "123"
      ]
     },
     "execution_count": 69,
     "metadata": {},
     "output_type": "execute_result"
    }
   ],
   "source": [
    "oAltaVariabila = int(input('Bagă și tu o valoare: '))\n",
    "oAltaVariabila"
   ]
  },
  {
   "cell_type": "markdown",
   "metadata": {},
   "source": [
    "# List comprehensions"
   ]
  },
  {
   "cell_type": "markdown",
   "metadata": {},
   "source": [
    "List comprehensions este o metodă de a crea rapid o listă în Python. Pentru a ilustra vom porni de la un clasic `for` pentru care vom scrie alternativa mai elegantă mai jos."
   ]
  },
  {
   "cell_type": "code",
   "execution_count": 70,
   "metadata": {},
   "outputs": [
    {
     "data": {
      "text/plain": [
       "['c', 'e', 'v', 'a']"
      ]
     },
     "execution_count": 70,
     "metadata": {},
     "output_type": "execute_result"
    }
   ],
   "source": [
    "# Pentru a completa o listă poti folosi un for\n",
    "lista = []\n",
    "for elem in 'ceva':\n",
    "    lista.append(elem)\n",
    "lista"
   ]
  },
  {
   "cell_type": "markdown",
   "metadata": {},
   "source": [
    "Dar soluția mai elegantă este aceea de a folosi un **list comprehension**."
   ]
  },
  {
   "cell_type": "code",
   "execution_count": 71,
   "metadata": {},
   "outputs": [
    {
     "data": {
      "text/plain": [
       "['c', 'e', 'v', 'a']"
      ]
     },
     "execution_count": 71,
     "metadata": {},
     "output_type": "execute_result"
    }
   ],
   "source": [
    "lista2 = [caracter for caracter in 'ceva']\n",
    "lista2"
   ]
  },
  {
   "cell_type": "markdown",
   "metadata": {},
   "source": [
    "Un alt exemplu care aplică și o computație per element"
   ]
  },
  {
   "cell_type": "code",
   "execution_count": 73,
   "metadata": {},
   "outputs": [
    {
     "data": {
      "text/plain": [
       "[0, 1, 4, 9, 16, 25, 36, 49, 64, 81, 100]"
      ]
     },
     "execution_count": 73,
     "metadata": {},
     "output_type": "execute_result"
    }
   ],
   "source": [
    "lista3 = [elem**2 for elem in range(0,11)]\n",
    "lista3"
   ]
  },
  {
   "cell_type": "markdown",
   "metadata": {},
   "source": [
    "Poți introduce și verificări după expresia for."
   ]
  },
  {
   "cell_type": "code",
   "execution_count": 74,
   "metadata": {},
   "outputs": [
    {
     "data": {
      "text/plain": [
       "[0, 4, 8, 12, 16, 20]"
      ]
     },
     "execution_count": 74,
     "metadata": {},
     "output_type": "execute_result"
    }
   ],
   "source": [
    "lista4 = [elem*2 for elem in range(0,11) if elem % 2 == 0]\n",
    "lista4"
   ]
  },
  {
   "cell_type": "markdown",
   "metadata": {},
   "source": [
    "Un alt exemplu ceva mai apropiat de cazurile reale ar fi extragerea de date din baze de date. Să presupunem că avem instalat deja MongoDB, am creat o bază de date și o colecție. Am generat un mediu virtual Python 3 și am creat următorul fișier `app.py` cu următorul conținut."
   ]
  },
  {
   "cell_type": "code",
   "execution_count": null,
   "metadata": {},
   "outputs": [],
   "source": [
    "__author__='Nicolaie Constantinescu'\n",
    "\n",
    "import pymongo\n",
    "uri = 'mongodb://127.0.0.1:27017'\n",
    "client = pymongo.MongoClient(uri)\n",
    "database = client['testapipy']\n",
    "collection = database['students']\n",
    "\n",
    "students = collection.find({}) #creează un cursor\n",
    "\n",
    "students = [student for student in collection.find({}) if student['mark'] == 100]"
   ]
  },
  {
   "cell_type": "markdown",
   "metadata": {},
   "source": [
    "Expresiile *list comprehensions* pot fi utilizate cu mare succes pentru a ajunge la un subset de informații dintr-o anumită colecție. Ceea ce atrage atenția este faptul că se pot folosi și expresii condiționale."
   ]
  },
  {
   "cell_type": "markdown",
   "metadata": {},
   "source": [
    "## Bucle în bucle"
   ]
  },
  {
   "cell_type": "code",
   "execution_count": 75,
   "metadata": {},
   "outputs": [
    {
     "data": {
      "text/plain": [
       "[10, 100, 1000, 20, 200, 2000, 40, 400, 4000]"
      ]
     },
     "execution_count": 75,
     "metadata": {},
     "output_type": "execute_result"
    }
   ],
   "source": [
    "listaNoua = []\n",
    "for x in [1, 2, 4]:\n",
    "    for y in [10, 100, 1000]:\n",
    "        listaNoua.append(x * y)\n",
    "        \n",
    "listaNoua"
   ]
  },
  {
   "cell_type": "markdown",
   "metadata": {},
   "source": [
    "Pentru a ajunge la formula unui list comprehension:"
   ]
  },
  {
   "cell_type": "code",
   "execution_count": 76,
   "metadata": {},
   "outputs": [
    {
     "data": {
      "text/plain": [
       "[10, 100, 1000, 20, 200, 2000, 30, 300, 3000]"
      ]
     },
     "execution_count": 76,
     "metadata": {},
     "output_type": "execute_result"
    }
   ],
   "source": [
    "oListaOau = [x * y for x in [1,2,3] for y in [10, 100, 1000]]\n",
    "oListaOau"
   ]
  },
  {
   "cell_type": "markdown",
   "metadata": {},
   "source": [
    "# Lucrul cu metodele"
   ]
  },
  {
   "cell_type": "markdown",
   "metadata": {},
   "source": [
    "Python are o varietate de metode care pot fi explorate individual."
   ]
  },
  {
   "cell_type": "code",
   "execution_count": 2,
   "metadata": {},
   "outputs": [
    {
     "name": "stdout",
     "output_type": "stream",
     "text": [
      "Help on built-in function insert:\n",
      "\n",
      "insert(...) method of builtins.list instance\n",
      "    L.insert(index, object) -- insert object before index\n",
      "\n"
     ]
    }
   ],
   "source": [
    "oListaDeExplorat = ['a', 'b', True]\n",
    "help(oListaDeExplorat.insert)"
   ]
  },
  {
   "cell_type": "code",
   "execution_count": null,
   "metadata": {},
   "outputs": [],
   "source": []
  }
 ],
 "metadata": {
  "kernelspec": {
   "display_name": "Python 3",
   "language": "python",
   "name": "python3"
  },
  "language_info": {
   "codemirror_mode": {
    "name": "ipython",
    "version": 3
   },
   "file_extension": ".py",
   "mimetype": "text/x-python",
   "name": "python",
   "nbconvert_exporter": "python",
   "pygments_lexer": "ipython3",
   "version": "3.6.6"
  }
 },
 "nbformat": 4,
 "nbformat_minor": 2
}
