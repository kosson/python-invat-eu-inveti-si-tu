{
 "cells": [
  {
   "cell_type": "markdown",
   "metadata": {},
   "source": [
    "# Cuvinte cheie"
   ]
  },
  {
   "cell_type": "markdown",
   "metadata": {},
   "source": [
    "Python folosește următoarele cuvinte rezervate din limba engleză: `and`, `as`, `assert`, `async`, `await`, `break`, `class`, `continue`, `def`, `del`, `elif`, `else`, `except`, `exec`, `False`, `finally`, `for`, `from`, `global`, `if`, `import`, `in`, `is`, `lambda`, `None`, `nonlocal`, `not`, `or`, `pass`, `print`, `raise`, `return`, `True`, `try`, `while`, `with`, `yield`."
   ]
  },
  {
   "cell_type": "markdown",
   "metadata": {},
   "source": [
    "Python delimitează blocurile funționale prin indentări (respectă regulile off-side). În loc de a marca blocurile care trebuie rulate prin intermediul sintaxei sau a cuvintelor cheie, folosește indentarea.\n",
    "\n",
    "Spațiile sau taburile de la începutul liniei logice este folosită pentru a calcula identarea liniei. Identarea determină grupurile declarațiilor. Un fișier al codului sursă care combină spațiile cu tab-urile pentru a realiza identările, va conduce la semnalarea unei erori."
   ]
  },
  {
   "cell_type": "markdown",
   "metadata": {},
   "source": [
    "Programele Python sunt citite de un parser. Analiza lexicală a codului sursă creează un șir de atomi lexicali (*tokens*).\n",
    "## Structura liniilor\n",
    "Un program este alcătuit dintr-un număr de **linii logice**. O linie logică se încheie cu un token NEWLINE. O linie  logică este constituită din una sau mai multe **linii fizice** respectându-se regulile implicite sau explicite de **unire a liniilor**. Liniile fizice se încheie cu un caracter newline ce marchează încheierea acestora.\n",
    "Aceste linii sunt tokenizate de interpretor și apoi executate de computer.\n",
    "### Linii fizice\n",
    "O linie fizică este o secvență de caractere terminată de o secvență *end-of-line*. Pentru a încheia o linie fizică se poate utiliza orice terminator, fie acesta un enter (CR), un line feed (LF) sau un CR LF.\n",
    "Se pot uni mai multe linii care constituie o linie fizică folosind backslash-ul: `\\`. Fii foarte atent la folosirea backslashului pentru că după acestea nu se poate pune niciun comentariu."
   ]
  },
  {
   "cell_type": "code",
   "execution_count": 6,
   "metadata": {},
   "outputs": [],
   "source": [
    "o_colectie = ['ceva', 'altceva', # unele lucruri\n",
    "             'undeva', 'cineva']"
   ]
  },
  {
   "cell_type": "markdown",
   "metadata": {},
   "source": [
    "Spre deosebire de backslash, în cazul *spargerii* pe mai multe linii din cazul parantezelor și acoladelor, poți pune la finalul liniei și un comentariu. \n",
    "Ceea ce se observă este o combinare a mai multor linii fizice într-o singură linie logică, care se încheie printr-un token NEWLINE."
   ]
  },
  {
   "cell_type": "markdown",
   "metadata": {},
   "source": [
    "Alte structuri care vor benefica de mecanismul intern al reunirii automate (*implicit*) pe o singură linie logică sunt tuples, literalele dicționarelor, ale seturilor și argumentele / parametrii funcțiilor."
   ]
  },
  {
   "cell_type": "code",
   "execution_count": 2,
   "metadata": {},
   "outputs": [
    {
     "name": "stdout",
     "output_type": "stream",
     "text": [
      "Caz de linii fizice ca o linie logică\n"
     ]
    }
   ],
   "source": [
    "o_lista = ['ceva',\n",
    "          'altceva', # un comentariu care va fi ignorat la faza tokenizării\n",
    "          'cineva']\n",
    "def o_functie (ax,\n",
    "              ay, # un alt comentariu care va fi ignorat de Python\n",
    "              az):\n",
    "    print('Caz de linii fizice ca o linie logică')\n",
    "o_functie(1, #ceva deosebit\n",
    "         2, 3)"
   ]
  },
  {
   "cell_type": "markdown",
   "metadata": {},
   "source": [
    "## Comentarii"
   ]
  },
  {
   "cell_type": "markdown",
   "metadata": {},
   "source": [
    "Comentariile se pot pune oriunde în cod câtă vreme se pune caracterul diez care semnalează interpretorul de prezența unuia."
   ]
  },
  {
   "cell_type": "markdown",
   "metadata": {},
   "source": [
    "## Normal string literals"
   ]
  },
  {
   "cell_type": "markdown",
   "metadata": {},
   "source": [
    "Python permite interpolarea valorilor într-un șir de caractere folosind diferite marcaje."
   ]
  },
  {
   "cell_type": "code",
   "execution_count": 3,
   "metadata": {},
   "outputs": [
    {
     "name": "stdout",
     "output_type": "stream",
     "text": [
      "Eu sunt Ionică și zic ceva\n",
      "Eu sunt Ionică și zic ceva\n",
      "Eu sunt Ionică și zic ceva\n",
      "Eu sunt Ionică și zic ceva\n"
     ]
    }
   ],
   "source": [
    "num = 'Ionică'\n",
    "printer = 'ceva'\n",
    "print(\"Eu sunt %s și zic %s\" % (num, printer))\n",
    "print(\"Eu sunt {0} și zic {1}\".format(num, printer))\n",
    "print(\"Eu sunt {num} și zic {printer}\".format(num=num, printer=printer))\n",
    "print(f\"Eu sunt {num} și zic {printer}\")"
   ]
  },
  {
   "cell_type": "markdown",
   "metadata": {},
   "source": [
    "Poți redacta texte pe mai multe linii care să permită interpolarea valorilor. Vom folosi un șir literal pe mai multe linii pentru exemplificare."
   ]
  },
  {
   "cell_type": "code",
   "execution_count": 4,
   "metadata": {},
   "outputs": [
    {
     "name": "stdout",
     "output_type": "stream",
     "text": [
      "Acest salut este\n",
      "pentru Ionică\n"
     ]
    }
   ],
   "source": [
    "print(\"\"\"Acest %(mesaj)s este\n",
    "pentru %(nume)s\"\"\" % {'mesaj':'salut','nume':'Ionică'})"
   ]
  },
  {
   "cell_type": "markdown",
   "metadata": {},
   "source": [
    "## Literale string pe mai multe linii"
   ]
  },
  {
   "cell_type": "markdown",
   "metadata": {},
   "source": [
    "Uneori este nevoie să introduci texte cu o dezvoltare mai mare, care au nevoie de mai multe linii. Pentru asta avem la îndemână posibilitatea de a le introduce delimitat prin ghilimele simple sau duble. Literalele pe mai multe linii nu sunt comentarii."
   ]
  },
  {
   "cell_type": "code",
   "execution_count": null,
   "metadata": {},
   "outputs": [],
   "source": [
    "def fac_ceva (val):\n",
    "    '''Acesta este un text explicativ\n",
    "    cu o întindere pe mai multe linii\n",
    "    pentru a înțelege mai bine.'''"
   ]
  },
  {
   "cell_type": "markdown",
   "metadata": {},
   "source": [
    "Ceea ce este util să înțelegi este faptul că literalele string pe mai multe linii sunt simple șiruri de caractere."
   ]
  },
  {
   "cell_type": "code",
   "execution_count": 10,
   "metadata": {},
   "outputs": [
    {
     "data": {
      "text/plain": [
       "'ceva\\nceva'"
      ]
     },
     "execution_count": 10,
     "metadata": {},
     "output_type": "execute_result"
    }
   ],
   "source": [
    "x = '''Un șir de caractere.'''\n",
    "x\n",
    "y = '''ceva\n",
    "ceva'''\n",
    "len(y) # 9 pentru că ai si un \\n\n",
    "y"
   ]
  },
  {
   "cell_type": "markdown",
   "metadata": {},
   "source": [
    "## Liste"
   ]
  },
  {
   "cell_type": "markdown",
   "metadata": {},
   "source": [
    "Listele sunt secvențe de elemente mutabile în care pot fi introduse valori de mai multe tipuri. O listă este un obiect de clasă `list`."
   ]
  },
  {
   "cell_type": "code",
   "execution_count": 7,
   "metadata": {},
   "outputs": [
    {
     "data": {
      "text/plain": [
       "[1]"
      ]
     },
     "execution_count": 7,
     "metadata": {},
     "output_type": "execute_result"
    }
   ],
   "source": [
    "o_lista = [0,'ceva']\n",
    "alta_lista = list()\n",
    "alta_lista.append(1)\n",
    "alta_lista"
   ]
  },
  {
   "cell_type": "markdown",
   "metadata": {},
   "source": [
    "## Tuples"
   ]
  },
  {
   "cell_type": "markdown",
   "metadata": {},
   "source": [
    "Tuples sunt secvențe imutabile de elemente în a căror compunere pot intra valori diferite. Un tuple este de clasă tuple."
   ]
  },
  {
   "cell_type": "code",
   "execution_count": 4,
   "metadata": {},
   "outputs": [
    {
     "data": {
      "text/plain": [
       "(3, 10, 4)"
      ]
     },
     "execution_count": 4,
     "metadata": {},
     "output_type": "execute_result"
    }
   ],
   "source": [
    "un_tuple = 2,'ceva'\n",
    "un_tuple\n",
    "alt_tuple = (3, 10, 4)\n",
    "alt_tuple"
   ]
  },
  {
   "cell_type": "markdown",
   "metadata": {},
   "source": [
    "După cum se observă, un tuple este nimic mai multe decât o secvență de valori delimitate prin virgule. De regulă, întreaga expresie este delimitată de paranteze rotunde."
   ]
  },
  {
   "cell_type": "code",
   "execution_count": 11,
   "metadata": {},
   "outputs": [
    {
     "data": {
      "text/plain": [
       "'bau'"
      ]
     },
     "execution_count": 11,
     "metadata": {},
     "output_type": "execute_result"
    }
   ],
   "source": [
    "alt_tuple = (3,'altceva')\n",
    "alt_tuple\n",
    "alt_tuple = ('bau')\n",
    "alt_tuple"
   ]
  },
  {
   "cell_type": "markdown",
   "metadata": {},
   "source": [
    "## Seturi"
   ]
  },
  {
   "cell_type": "markdown",
   "metadata": {},
   "source": [
    "Seturile sunt containere mutabile de elemente de tipuri arbitrare, dar care trebuie să fie unice. Elementele nu sunt ordonate. Seturile suportă iterarea și sunt de clasă `set`."
   ]
  },
  {
   "cell_type": "code",
   "execution_count": 13,
   "metadata": {},
   "outputs": [
    {
     "data": {
      "text/plain": [
       "{('a', 'b'), 2, True}"
      ]
     },
     "execution_count": 13,
     "metadata": {},
     "output_type": "execute_result"
    }
   ],
   "source": [
    "un_set = {2, ('a','b'), True}\n",
    "un_set"
   ]
  },
  {
   "cell_type": "markdown",
   "metadata": {},
   "source": [
    "## Dicționarele"
   ]
  },
  {
   "cell_type": "markdown",
   "metadata": {},
   "source": [
    "Sunt perechi cheie valoare mutabile"
   ]
  },
  {
   "cell_type": "code",
   "execution_count": 14,
   "metadata": {},
   "outputs": [
    {
     "data": {
      "text/plain": [
       "{'cheie': 'valoare', 2: True}"
      ]
     },
     "execution_count": 14,
     "metadata": {},
     "output_type": "execute_result"
    }
   ],
   "source": [
    "un_dictionar = {\"cheie\":\"valoare\", 2: True}\n",
    "un_dictionar"
   ]
  }
 ],
 "metadata": {
  "kernelspec": {
   "display_name": "Python 3",
   "language": "python",
   "name": "python3"
  },
  "language_info": {
   "codemirror_mode": {
    "name": "ipython",
    "version": 3
   },
   "file_extension": ".py",
   "mimetype": "text/x-python",
   "name": "python",
   "nbconvert_exporter": "python",
   "pygments_lexer": "ipython3",
   "version": "3.6.6"
  }
 },
 "nbformat": 4,
 "nbformat_minor": 2
}
