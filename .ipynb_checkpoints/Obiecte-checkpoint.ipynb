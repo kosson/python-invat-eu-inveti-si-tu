{
 "cells": [
  {
   "cell_type": "markdown",
   "metadata": {},
   "source": [
    "# Obiecte"
   ]
  },
  {
   "cell_type": "markdown",
   "metadata": {},
   "source": [
    "Obiectele în Python sunt instanțiate după clase. Clasele sunt funcții definite cu majusculă."
   ]
  },
  {
   "cell_type": "code",
   "execution_count": 1,
   "metadata": {},
   "outputs": [],
   "source": [
    "def Ceva():\n",
    "    def __init__(self, a, b):\n",
    "        self.a = a\n",
    "        self.b = b\n",
    "    def metoda1():\n",
    "        print(self.a)"
   ]
  },
  {
   "cell_type": "markdown",
   "metadata": {},
   "source": [
    "Instanțierea este rularea funcției constructor pasându-i valorile așteptate la parametri. Este observabil cuvântul cheie `self`, care va indica obiectul instanțiat prin executarea constructorului."
   ]
  },
  {
   "cell_type": "markdown",
   "metadata": {},
   "source": [
    "## Class object attributes"
   ]
  },
  {
   "cell_type": "markdown",
   "metadata": {},
   "source": [
    "Sunt acele proprietăți pe care le introduci înainte de a defini metoda constructor `__init__`."
   ]
  },
  {
   "cell_type": "code",
   "execution_count": 2,
   "metadata": {},
   "outputs": [],
   "source": [
    "class Carte():\n",
    "    tip = 'operă' # acestea sunt atributele obiectului clasă\n",
    "    def __init__(self, ceva):\n",
    "        self.ceva = ceva"
   ]
  },
  {
   "cell_type": "markdown",
   "metadata": {},
   "source": [
    "## Metode"
   ]
  },
  {
   "cell_type": "markdown",
   "metadata": {},
   "source": [
    "Sunt funcții care rulează în contextul obiectelor instanțiate."
   ]
  },
  {
   "cell_type": "code",
   "execution_count": 9,
   "metadata": {},
   "outputs": [],
   "source": [
    "class Animal():\n",
    "    clasa = 'cervide'\n",
    "    def __init__(self, grupa):\n",
    "        self.grupa = grupa\n",
    "    # metodă\n",
    "    def audio(self, conditie):\n",
    "        print('Houuuuuu atunci când este {}'.format(conditie))"
   ]
  },
  {
   "cell_type": "code",
   "execution_count": 10,
   "metadata": {},
   "outputs": [],
   "source": [
    "lup = Animal('carpatici')"
   ]
  },
  {
   "cell_type": "code",
   "execution_count": 11,
   "metadata": {},
   "outputs": [
    {
     "name": "stdout",
     "output_type": "stream",
     "text": [
      "Houuuuuu atunci când este luna e plină\n"
     ]
    }
   ],
   "source": [
    "lup.audio('luna e plină')"
   ]
  },
  {
   "cell_type": "code",
   "execution_count": 12,
   "metadata": {},
   "outputs": [
    {
     "data": {
      "text/plain": [
       "'cervide'"
      ]
     },
     "execution_count": 12,
     "metadata": {},
     "output_type": "execute_result"
    }
   ],
   "source": [
    "lup.clasa"
   ]
  },
  {
   "cell_type": "markdown",
   "metadata": {},
   "source": [
    "Metodele acceptă și argumente. Am introdus în exemplu în metoda `audio`."
   ]
  },
  {
   "cell_type": "markdown",
   "metadata": {},
   "source": [
    "## Moștenire și poliformism"
   ]
  },
  {
   "cell_type": "markdown",
   "metadata": {},
   "source": [
    "Ceea ce am definit mai sus poate fi numită o clasă de bază (base class)."
   ]
  },
  {
   "cell_type": "code",
   "execution_count": 14,
   "metadata": {},
   "outputs": [],
   "source": [
    "class Vehicule():\n",
    "    def __init__(self):\n",
    "        print('Sunt un vehicul')\n",
    "    def general(self):\n",
    "        print('Sunt un ansamblu')"
   ]
  },
  {
   "cell_type": "markdown",
   "metadata": {},
   "source": [
    "Pasarea clasei Vehicule unei noi clase, va conduce la crearea unei clase „derivate”. Clasa care primește obiectul clasă de la care va moșteni va realiza ceea ce numim „moștenire”."
   ]
  },
  {
   "cell_type": "code",
   "execution_count": 16,
   "metadata": {},
   "outputs": [],
   "source": [
    "class Avion(Vehicule):\n",
    "    def __init__(self):\n",
    "        Vehicule.__init__(self) # creeazi o instanță a unui obiect Vehicule\n",
    "        print('Am creat un avion')"
   ]
  },
  {
   "cell_type": "code",
   "execution_count": 17,
   "metadata": {},
   "outputs": [
    {
     "name": "stdout",
     "output_type": "stream",
     "text": [
      "Sunt un vehicul\n",
      "Am creat un avion\n"
     ]
    }
   ],
   "source": [
    "avion = Avion()"
   ]
  },
  {
   "cell_type": "code",
   "execution_count": 18,
   "metadata": {},
   "outputs": [
    {
     "name": "stdout",
     "output_type": "stream",
     "text": [
      "Sunt un ansamblu\n"
     ]
    }
   ],
   "source": [
    "avion.general()"
   ]
  },
  {
   "cell_type": "markdown",
   "metadata": {},
   "source": [
    "Atunci când este nevoie poți suprascrie o metodă existentă. Pentru a face acest lucru trebuie să redefinești metoda cu numele celei pe care dorești să o suprascrii în obiectul care o moștenește."
   ]
  },
  {
   "cell_type": "code",
   "execution_count": 19,
   "metadata": {},
   "outputs": [],
   "source": [
    "class Avion(Vehicule):\n",
    "    def __init__(self):\n",
    "        Vehicule.__init__(self) # creeazi o instanță a unui obiect Vehicule\n",
    "        print('Am creat un avion')\n",
    "    def general(self):\n",
    "        print('Sunt o minune inginerească')"
   ]
  },
  {
   "cell_type": "code",
   "execution_count": 21,
   "metadata": {},
   "outputs": [
    {
     "name": "stdout",
     "output_type": "stream",
     "text": [
      "Sunt un vehicul\n",
      "Am creat un avion\n"
     ]
    }
   ],
   "source": [
    "avion2 = Avion()"
   ]
  },
  {
   "cell_type": "code",
   "execution_count": 23,
   "metadata": {},
   "outputs": [
    {
     "name": "stdout",
     "output_type": "stream",
     "text": [
      "Sunt o minune inginerească\n"
     ]
    }
   ],
   "source": [
    "avion2.general()"
   ]
  },
  {
   "cell_type": "markdown",
   "metadata": {},
   "source": [
    "### Polimorfism"
   ]
  },
  {
   "cell_type": "markdown",
   "metadata": {},
   "source": [
    "În Python, polimorfismul se referă la faptul că mai multe obiecte clase pot avea nume identice de metode iar aceste motode pot fi apelate de diferitele obiecte instanțiate."
   ]
  },
  {
   "cell_type": "markdown",
   "metadata": {},
   "source": [
    "## Clase abstracte"
   ]
  },
  {
   "cell_type": "markdown",
   "metadata": {},
   "source": [
    "Aceste clase nu sunt instanțiate niciodată. Se comportă ca niște interfețe de la care alte clase pot moșteni. "
   ]
  },
  {
   "cell_type": "code",
   "execution_count": 33,
   "metadata": {},
   "outputs": [],
   "source": [
    "class Mamifer():\n",
    "    def __init__(self,nume):\n",
    "        self.nume = nume\n",
    "    def sunet(self):\n",
    "        raise NotImplementedError('Subclass must implement this abstract method')"
   ]
  },
  {
   "cell_type": "markdown",
   "metadata": {},
   "source": [
    "Ceea ce se așteaptă să faci cu această clasă este să implementezi clasa în altele care să-i rescrie metodele."
   ]
  },
  {
   "cell_type": "code",
   "execution_count": 34,
   "metadata": {},
   "outputs": [],
   "source": [
    "class Pisica(Mamifer):\n",
    "    def sunet(self):\n",
    "        return self.nume + ' și fac miau!'\n",
    "class Caine(Mamifer):\n",
    "    def sunet(self):\n",
    "        return self.nume + ' și latru'"
   ]
  },
  {
   "cell_type": "code",
   "execution_count": 36,
   "metadata": {},
   "outputs": [],
   "source": [
    "gigi = Pisica('Eu sunt Gigi')"
   ]
  },
  {
   "cell_type": "code",
   "execution_count": 38,
   "metadata": {},
   "outputs": [
    {
     "data": {
      "text/plain": [
       "'Eu sunt Gigi și fac miau!'"
      ]
     },
     "execution_count": 38,
     "metadata": {},
     "output_type": "execute_result"
    }
   ],
   "source": [
    "gigi.sunet()"
   ]
  },
  {
   "cell_type": "markdown",
   "metadata": {},
   "source": [
    "## Metode speciale"
   ]
  },
  {
   "cell_type": "markdown",
   "metadata": {},
   "source": [
    "Aceste metode sunt cele cu două liniuțe. Prima metodă specială pe care deja am folosit-o este `__init__` în clase. Această metodă este apelată automat atunci când este instanțiat un obiect prin apelarea funcției clasă."
   ]
  },
  {
   "cell_type": "markdown",
   "metadata": {},
   "source": [
    "O altă metodă dunder-dunder este cea care atunci când este apelată vreo funcție care dorește returnarea unui reprezentări string a unui obiect, va fi apelată pentru a oferi răspunsul așteptat."
   ]
  },
  {
   "cell_type": "code",
   "execution_count": 14,
   "metadata": {},
   "outputs": [],
   "source": [
    "class Carte():\n",
    "    def __init__(self, titlu, autor, an):\n",
    "        self.titlu = titlu\n",
    "        self.autor = autor\n",
    "        self.an    = an\n",
    "    def __str__(self):\n",
    "        return f\"{self.titlu} de {self.autor}\"\n",
    "    def __len__(self):\n",
    "        return self.an\n",
    "    def __del__(self):\n",
    "        print('M-a șters...')"
   ]
  },
  {
   "cell_type": "code",
   "execution_count": 15,
   "metadata": {},
   "outputs": [],
   "source": [
    "carte = Carte(\"Ion\",\"Liviu Rebreanu\", 1920)"
   ]
  },
  {
   "cell_type": "code",
   "execution_count": 16,
   "metadata": {},
   "outputs": [
    {
     "name": "stdout",
     "output_type": "stream",
     "text": [
      "Ion de Liviu Rebreanu\n"
     ]
    }
   ],
   "source": [
    "print(carte)"
   ]
  },
  {
   "cell_type": "markdown",
   "metadata": {},
   "source": [
    "Prin executarea funcției `print`, se cere obiectului dacă are o reprezentare string a obiectului. Metoda `__str__` oferă posibilitatea de a returna un astfel de răspuns. Dacă ai fi încercat pe de-a dreptul, în lipsa lui `__str__` ai fi obținut un răspuns care indică adresa obiectului din memoria computerului. Folosind `__len__` pentru a returna valori numerice cu o anumită însemnătate pentru obiect."
   ]
  },
  {
   "cell_type": "code",
   "execution_count": 17,
   "metadata": {},
   "outputs": [
    {
     "data": {
      "text/plain": [
       "1920"
      ]
     },
     "execution_count": 17,
     "metadata": {},
     "output_type": "execute_result"
    }
   ],
   "source": [
    "len(carte)"
   ]
  },
  {
   "cell_type": "markdown",
   "metadata": {},
   "source": [
    "## Ștergerea unui obiect"
   ]
  },
  {
   "cell_type": "markdown",
   "metadata": {},
   "source": [
    "Pentru a șterge un obiect în Python, vei folosi `del`"
   ]
  },
  {
   "cell_type": "code",
   "execution_count": 18,
   "metadata": {},
   "outputs": [
    {
     "data": {
      "text/plain": [
       "<__main__.Carte at 0x7f301009d1d0>"
      ]
     },
     "execution_count": 18,
     "metadata": {},
     "output_type": "execute_result"
    }
   ],
   "source": [
    "carte"
   ]
  },
  {
   "cell_type": "code",
   "execution_count": 19,
   "metadata": {},
   "outputs": [],
   "source": [
    "del carte"
   ]
  },
  {
   "cell_type": "code",
   "execution_count": 20,
   "metadata": {},
   "outputs": [
    {
     "ename": "NameError",
     "evalue": "name 'carte' is not defined",
     "output_type": "error",
     "traceback": [
      "\u001b[0;31m---------------------------------------------------------------------------\u001b[0m",
      "\u001b[0;31mNameError\u001b[0m                                 Traceback (most recent call last)",
      "\u001b[0;32m<ipython-input-20-8780937a7428>\u001b[0m in \u001b[0;36m<module>\u001b[0;34m()\u001b[0m\n\u001b[0;32m----> 1\u001b[0;31m \u001b[0mcarte\u001b[0m\u001b[0;34m\u001b[0m\u001b[0m\n\u001b[0m",
      "\u001b[0;31mNameError\u001b[0m: name 'carte' is not defined"
     ]
    }
   ],
   "source": [
    "carte"
   ]
  },
  {
   "cell_type": "markdown",
   "metadata": {},
   "source": [
    "Chiar la momentul ștergerii unui obiect poți introduce o metodă specială, care va fi apelată în momentul în care obiectul va fi șters."
   ]
  },
  {
   "cell_type": "code",
   "execution_count": 21,
   "metadata": {},
   "outputs": [],
   "source": [
    "carte = Carte('Cartea vieții', 'Tina Gina', 1954)"
   ]
  },
  {
   "cell_type": "code",
   "execution_count": null,
   "metadata": {},
   "outputs": [],
   "source": []
  }
 ],
 "metadata": {
  "kernelspec": {
   "display_name": "Python 3",
   "language": "python",
   "name": "python3"
  },
  "language_info": {
   "codemirror_mode": {
    "name": "ipython",
    "version": 3
   },
   "file_extension": ".py",
   "mimetype": "text/x-python",
   "name": "python",
   "nbconvert_exporter": "python",
   "pygments_lexer": "ipython3",
   "version": "3.6.6"
  }
 },
 "nbformat": 4,
 "nbformat_minor": 2
}
