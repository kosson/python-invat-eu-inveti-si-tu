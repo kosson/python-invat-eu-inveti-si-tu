{
 "cells": [
  {
   "cell_type": "markdown",
   "metadata": {},
   "source": [
    "# Introducere"
   ]
  },
  {
   "cell_type": "markdown",
   "metadata": {},
   "source": [
    "Pyton este un limbaj de programare dinamic care este folosit preponderent în lucrul cu datele. Manualul de referință poate fi consultat la https://docs.python.org/3.6/reference/index.html#reference-index. Python vine cu o bibliotecă de cod din oficiu și câteva componente care sunt încluse în distribuții.\n",
    "Biblioteca de cod conține module scrise în C care oferă acces la funcționalitățile sistemului. Module specializate rezolvă diferite probleme de programare uzuale. Aceste module formează Biblioteca Standard Python - Python Standard Library (https://docs.python.org/3.6/library/index.html).\n",
    "Un text introductiv folositor este cel al tutorialului de la https://docs.python.org/3.6/library/index.html"
   ]
  },
  {
   "cell_type": "markdown",
   "metadata": {},
   "source": [
    "Pentru a rula cod Python ai nevoie de un interpretor, care poate fi descărcat și instalat de la python.org."
   ]
  },
  {
   "cell_type": "markdown",
   "metadata": {},
   "source": [
    "## Analiza lexicală"
   ]
  },
  {
   "cell_type": "markdown",
   "metadata": {},
   "source": [
    "Programele Python sunt citite de un parser. Analiza lexicală a codului sursă creează un șir de atomi lexicali (*tokens*).\n",
    "### Structura liniilor\n",
    "Un program este alcătuit dintr-un număr de **linii logice**. O linie logică se încheie cu token-ul NEWLINE. O linie  logică este constituită din una sau mai multe **linii fizice** respectându-se regulile implicite sau explicite de **unire a liniilor**.\n",
    "#### Linii fizice\n",
    "O linie fizică este o secvență de caractere terminată de o secvență *end-of-line*. Pentru a încheia o linie fizică se poate utiliza orice terminator, fie acesta un enter (CR), un line feed (LF) sau un CR LF.\n",
    "Se pot uni mai multe linii care constituie o linie fizică folosind backslash-ul: `/`.\n",
    "Unirea implicită a mai multor linii se realizează atunci când se folosesc parantezele pătrate sau acoladele. În aceste cazuri nu este nevoie de folosirea backslash-ului."
   ]
  },
  {
   "cell_type": "code",
   "execution_count": 2,
   "metadata": {},
   "outputs": [],
   "source": [
    "o_colectie = ['ceva', 'altceva', # unele lucruri\n",
    "             'undeva', 'cineva']"
   ]
  },
  {
   "cell_type": "markdown",
   "metadata": {},
   "source": [
    "Spre deosebire de backslash, în cazul *spargerii* pe mai multe linii din cazul parantezelor și acoladelor, poți pune la finalul liniei și un comentariu."
   ]
  },
  {
   "cell_type": "markdown",
   "metadata": {},
   "source": [
    "### Identarea"
   ]
  },
  {
   "cell_type": "markdown",
   "metadata": {},
   "source": [
    "Spațiile sau taburile de la începutul liniei logice este folosită pentru a calcula identarea liniei. Identarea determină grupurile declarațiilor. Un fișier al codului sursă care combină spațiile cu tab-urile pentru a realiza identările, va conduce la semnalarea unei erori."
   ]
  },
  {
   "cell_type": "code",
   "execution_count": null,
   "metadata": {},
   "outputs": [],
   "source": []
  }
 ],
 "metadata": {
  "celltoolbar": "Edit Metadata",
  "kernelspec": {
   "display_name": "Python 3",
   "language": "python",
   "name": "python3"
  },
  "language_info": {
   "codemirror_mode": {
    "name": "ipython",
    "version": 3
   },
   "file_extension": ".py",
   "mimetype": "text/x-python",
   "name": "python",
   "nbconvert_exporter": "python",
   "pygments_lexer": "ipython3",
   "version": "3.6.4"
  }
 },
 "nbformat": 4,
 "nbformat_minor": 2
}
