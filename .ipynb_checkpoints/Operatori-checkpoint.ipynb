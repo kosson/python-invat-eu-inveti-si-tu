{
 "cells": [
  {
   "cell_type": "markdown",
   "metadata": {},
   "source": [
    "# Operatori\n",
    "\n",
    "Operatorii sunt semnele pe care deja le cunoaștem de la matematică cu excepția lui egal care are rolul de a atribui o valoare unei variabile.\n",
    "\n",
    "Ordinea de rezolvare a expresiilor din care operatorii fac parte, o urmează pe cea din matematică. Sper că îți mai amintești faptul că parantezele rotunde aveau rolul de a grupa. Și în cazul Python 3, acestea sunt citite drept operanzi.\n",
    "\n",
    "Imediat după paranteze, în ordinea precedenței, avem ridicarea la putere: `2 ** 2`."
   ]
  }
 ],
 "metadata": {
  "kernelspec": {
   "display_name": "Python 3",
   "language": "python",
   "name": "python3"
  },
  "language_info": {
   "codemirror_mode": {
    "name": "ipython",
    "version": 3
   },
   "file_extension": ".py",
   "mimetype": "text/x-python",
   "name": "python",
   "nbconvert_exporter": "python",
   "pygments_lexer": "ipython3",
   "version": "3.6.7"
  }
 },
 "nbformat": 4,
 "nbformat_minor": 2
}
