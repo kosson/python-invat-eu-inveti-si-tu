{
 "cells": [
  {
   "cell_type": "markdown",
   "metadata": {},
   "source": [
    "# Module și pachete"
   ]
  },
  {
   "cell_type": "markdown",
   "metadata": {},
   "source": [
    "Modulele sunt scripturi de Python care rulează în alte scripturi de Python. Pachetele Python sunt colecții de module. Cel mai mare hub de pachete Python este pypi.org."
   ]
  },
  {
   "cell_type": "markdown",
   "metadata": {},
   "source": [
    "Pentru a semnala un pachet, ceea ce trebuie să faci este să pui un fișier `__init__.py` în directorul în care se află modulele Python."
   ]
  },
  {
   "cell_type": "markdown",
   "metadata": {},
   "source": [
    "## __name__ and \"__main__\""
   ]
  },
  {
   "cell_type": "markdown",
   "metadata": {},
   "source": [
    "În Python există un nume built-in denumit `__name__`. Acestui nume îi este atribuit un șir de caractere în funcție de modul în care este rulat scriptul. Dacă scriptul este rulat direct cu `python nume_script.py` numelui built-in `__name__` îi este atribuită valoarea `\"__main__\"`. Deci, vom avea `True` pentru `__name__ == \"__main__\"`."
   ]
  },
  {
   "cell_type": "markdown",
   "metadata": {},
   "source": [
    "Acest lucru înseamnă că vei putea interoga această atribuire cu un `if`."
   ]
  },
  {
   "cell_type": "code",
   "execution_count": 3,
   "metadata": {},
   "outputs": [],
   "source": [
    "if __name__ == \"__main__\":\n",
    "    def execut_acum():\n",
    "        pass"
   ]
  },
  {
   "cell_type": "markdown",
   "metadata": {},
   "source": [
    "Această secvență este întâlnită la finalul scriptului. Dacă la test valoarea va fi `False`, atunci înseamnă că scriptul a fost importat."
   ]
  },
  {
   "cell_type": "code",
   "execution_count": null,
   "metadata": {},
   "outputs": [],
   "source": []
  }
 ],
 "metadata": {
  "kernelspec": {
   "display_name": "Python 3",
   "language": "python",
   "name": "python3"
  },
  "language_info": {
   "codemirror_mode": {
    "name": "ipython",
    "version": 3
   },
   "file_extension": ".py",
   "mimetype": "text/x-python",
   "name": "python",
   "nbconvert_exporter": "python",
   "pygments_lexer": "ipython3",
   "version": "3.6.6"
  }
 },
 "nbformat": 4,
 "nbformat_minor": 2
}
