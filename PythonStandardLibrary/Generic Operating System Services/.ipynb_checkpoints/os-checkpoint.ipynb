{
 "cells": [
  {
   "cell_type": "markdown",
   "metadata": {},
   "source": [
    "# os"
   ]
  },
  {
   "cell_type": "markdown",
   "metadata": {},
   "source": [
    "Este un modul care oferă portabilitatea între diferitele sisteme de operare atunci când este nevoie de a lucra cu sistemul de fișire și căile acestora. De cele mai multe ori îl veți întâlni importat chiar primul în cazul unui script care face setup-ul unei aplicații."
   ]
  },
  {
   "cell_type": "markdown",
   "metadata": {},
   "source": [
    "## os.name"
   ]
  },
  {
   "cell_type": "markdown",
   "metadata": {},
   "source": [
    "Returnează tipul sistemului de operare. Posibilele variante sunt `posix`, `nt`, `os2`, `ce`, `java`, `riscos`. Folosind comanda `os.uname()` obții detalii amănunțite despre sistemuld de operare și arhitectura sa. De exemplu `posix.uname_result(sysname='Linux', nodename='nico', release='4.15.0-43-generic', version='#46-Ubuntu SMP Thu Dec 6 14:45:28 UTC 2018', machine='x86_64')`."
   ]
  },
  {
   "cell_type": "markdown",
   "metadata": {},
   "source": [
    "## os.environ"
   ]
  },
  {
   "cell_type": "markdown",
   "metadata": {},
   "source": [
    "Acesta este un obiect container de *mapping* care oferă informații de mediu sub formă de stringuri. De exemplu, șirul care indică directorul home poate fi obținut prin `os.environ['HOME']`. Acest obiect se formează la momentul când modulul este importat.\n",
    "Dacă se petrec modificări ale mediului după ce acest modul a fost importat, aceste modificări nu se vor reflecta și în obiectul de *mapping* deja creat."
   ]
  },
  {
   "cell_type": "markdown",
   "metadata": {},
   "source": [
    "## Operațiuni cu descriptorii de fișier"
   ]
  },
  {
   "cell_type": "markdown",
   "metadata": {},
   "source": [
    "*Descriptorii* de fișier sunt numere întregi care sunt legate de starea în care se află un fișier deschis în procesul curent. De exemplu, *standard input* are descriptorul 0, *standard output* are 1 și *standard error* are 2. Pentru fișierele pe care le deschide un proces, vor fi atribuiți în continuare descriptorii 3, 4, 5, ș.a.m.d. Pe sistemule UNIX chiar și socketurile și pipe-urile sunt referite de *file descriptors*."
   ]
  }
 ],
 "metadata": {
  "kernelspec": {
   "display_name": "Python 3",
   "language": "python",
   "name": "python3"
  },
  "language_info": {
   "codemirror_mode": {
    "name": "ipython",
    "version": 3
   },
   "file_extension": ".py",
   "mimetype": "text/x-python",
   "name": "python",
   "nbconvert_exporter": "python",
   "pygments_lexer": "ipython3",
   "version": "3.6.7"
  }
 },
 "nbformat": 4,
 "nbformat_minor": 2
}
