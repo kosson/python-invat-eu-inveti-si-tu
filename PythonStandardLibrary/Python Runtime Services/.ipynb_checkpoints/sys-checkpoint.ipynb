{
 "cells": [
  {
   "cell_type": "markdown",
   "metadata": {},
   "source": [
    "# sys"
   ]
  },
  {
   "cell_type": "markdown",
   "metadata": {},
   "source": [
    "Acest modul oferă funcții și parametri specifici unui anumit sistem cu care interpretorul va interacționa."
   ]
  },
  {
   "cell_type": "markdown",
   "metadata": {},
   "source": [
    "## sys.base_exec_prefix"
   ]
  },
  {
   "cell_type": "markdown",
   "metadata": {},
   "source": [
    "Această variabilă este setată la momentul în care începe să ruleze interpreorul înainte de a fi executat `site.py` și este setată la aceeași valoare cu `sys.exec_prefix`. Dacă codul nostru nu va rula într-un mediu virtual, valorile vor fi identice. Dacă `site.py` realizează că se rulează codul într-un mediu virtual, atunci valorile lui `sys.prefix` și `sys.exec_prefix` vor fi setate pentru a indica mediul virtual. În același timp, `sys.base_prefix` și `sys.base_exec_prefix` vor indica locul în care a fost instalat prima dată Python-ul pe sistem."
   ]
  }
 ],
 "metadata": {
  "kernelspec": {
   "display_name": "Python 3",
   "language": "python",
   "name": "python3"
  },
  "language_info": {
   "codemirror_mode": {
    "name": "ipython",
    "version": 3
   },
   "file_extension": ".py",
   "mimetype": "text/x-python",
   "name": "python",
   "nbconvert_exporter": "python",
   "pygments_lexer": "ipython3",
   "version": "3.6.6"
  }
 },
 "nbformat": 4,
 "nbformat_minor": 2
}
