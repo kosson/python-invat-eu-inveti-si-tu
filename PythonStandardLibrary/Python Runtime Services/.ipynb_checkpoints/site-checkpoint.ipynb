{
 "cells": [
  {
   "cell_type": "markdown",
   "metadata": {},
   "source": [
    "# Modulul site"
   ]
  },
  {
   "cell_type": "markdown",
   "metadata": {},
   "source": [
    "Acest modul este importat automat la momentul inițializării dar dacă interpretorului i se dă opțiunea `-S`, acesta va suprima importul."
   ]
  },
  {
   "cell_type": "markdown",
   "metadata": {},
   "source": [
    "Importul acestui modul va seta căile specifice către un site adăugându-le căii de căutare a modulelor.\n",
    "\n",
    "Modulul începe să construiască patru directoare pornind cu un `head` și un `tail`.\n",
    "\n",
    "Pentru *head* va folosi `sys.prefix` și `sys.exec_prefix`. Pentru `tail` folosește un șir gol sau `lib/pythonX.Y/site-packages`.\n",
    "\n",
    "Dacă în directorul superior există un fișier `pyvenv.cfg` (un fișier de configurare pentru realizarea unui bootstrap), atunci toate directoarele de la `sys.executable`, `sys.prefix` și `sys.exec_prefix` vor trimite către acesta. În acest director se va căuta dacă există `site-packages`. Reține faptul că valorile din `sys.base_prefix` și `sys.base_exec_prefix` vor fi întotdeauna referințele către prefixele reale ale instalării de Python pe sistem.\n",
    "\n",
    "Dacă `pyvenv.cfg` are o cheie *include-system-site-packages* setată cu orice valoare în afară de `false`, prefixele la nivel de sistem vor fi parcurse pentru a fi descoperite *site-packages*.\n",
    "\n",
    "Un fișier de configurare a căilor este un fișier a cărui nume are forma *name.pth* și se află în unul din cele patru directoare menționate mai sus.\n",
    "\n",
    "Să presupunem că `sys.prefix` and `sys.exec_prefix` sunt setate la `/usr/local`. Biblioteca de cod `Python X.Y` va fi instalată în `/usr/local/lib/pythonX.Y`. Să presupunem că există un subdirector `site-packages`. Acesta, la rândul său are trei subdirectoare a trei pachete: `ana`, `are`, `icre` și două fișiere de configurare a căilor: `ana.pth` și `are.pth`. Dacă cele două fișiere ar conține următoarele intrări:\n",
    "\n",
    "```text\n",
    "# configurarea pachetului ana\n",
    "\n",
    "ana\n",
    "are\n",
    "mere\n",
    "```\n",
    "\n",
    "și\n",
    "\n",
    "```text\n",
    "# configurarea pachetului are\n",
    "\n",
    "are\n",
    "```\n",
    "\n",
    "În acest caz, la `sys.path` vor fi adăugate două căi:\n",
    "\n",
    "```text\n",
    "/usr/local/lib/pythonX.Y/site-packages/ana\n",
    "/usr/local/lib/pythonX.Y/site-packages/are\n",
    "```\n",
    "\n",
    "Pentru că nu există biblioteca de cod `mere`, aceasta nu va fi adăugată în `sys.path` chiar dacă este menționată în fișierul de configurare `ana.pth`. Reține faptul că subdirectoarele inexistente nu vor fi adăugate în `sys.path` și nici informațiile precedate de `#` nu vor fi adăugate. Adăugarea căilor se face în ordinea alfabetică și sper că ai observat că subdirectorul `icre` nu a fost adăugat pentru că nu este menționat nicăieri în vreun fișier de cale."
   ]
  },
  {
   "cell_type": "markdown",
   "metadata": {},
   "source": [
    "## Conținutul modulului"
   ]
  },
  {
   "cell_type": "markdown",
   "metadata": {},
   "source": [
    "### site.PREFIXES"
   ]
  },
  {
   "cell_type": "markdown",
   "metadata": {},
   "source": [
    "Este o listă cu prefixe pentru subdirectoarele din `site-packages`."
   ]
  },
  {
   "cell_type": "markdown",
   "metadata": {},
   "source": [
    "### site.ENABLE_USER_SITE"
   ]
  },
  {
   "cell_type": "markdown",
   "metadata": {},
   "source": [
    "Este un indicator al stării directorului `site-packages`. Valoarea `True` înseamnă că este activată și a fost adăugată la `sys.path`. Valoarea `False` înseamnă că a fost dezactivată la cererea utilizatorului (folosindu-se opțiunea [-s](https://docs.python.org/3/using/cmdline.html#cmdoption-s) sau [PYTHONNOUSERSITE](https://docs.python.org/3/using/cmdline.html#envvar-PYTHONNOUSERSITE)). O valoare `None` înseamnă că a fost dezactivată din motive de siguranță (nepotrivire între utilizator sau id-ul grupului și id-ul efectiv) sau de către administrator."
   ]
  },
  {
   "cell_type": "markdown",
   "metadata": {},
   "source": [
    "###  site.USER_SITE"
   ]
  },
  {
   "cell_type": "markdown",
   "metadata": {},
   "source": [
    "Valoarea sa este calea către `site-packages` ale utilizatorului pentru sesiunea Python în desfășurare. Dacă nu a fost apelat deja `getusersitepackages()`, valoarea poate fi `None`. Valoarea din oficiu este `~/.local/lib/pythonX.Y/site-packages` pentru Unix. Acest director este un director de site. Acest lucru înseamnă că fișierele `.pth` din interior vor fi procesate."
   ]
  },
  {
   "cell_type": "markdown",
   "metadata": {},
   "source": [
    "### site.USER_BASE"
   ]
  },
  {
   "cell_type": "markdown",
   "metadata": {},
   "source": [
    "Aceasta este valoarea pentru directorul de bază pentru `site-packages` ale utilizatorului. Valoarea poate fi `None` dacă nu a fost apelată deja metoda `getuserbase()`. Valoarea din oficiu este `~/.local` for UNIX. Această valoare este folosită de `Diskutils` pentru a calcula directoarele de instalare pentru scripturi, fișierele de date, modulele Python, etc. pentru schema [user installation](https://docs.python.org/3/install/index.html#inst-alt-install-user). Vezi și PYTHONUSERBASE."
   ]
  },
  {
   "cell_type": "markdown",
   "metadata": {},
   "source": [
    "### site.main()"
   ]
  },
  {
   "cell_type": "markdown",
   "metadata": {},
   "source": [
    "Adaugă toate directoarele standard specifice site-ului la calea de căutare a modulului. Această funcție este apelată automat atunci când acest modul este importat cu excepția situației în care interpretorul Python a fost apelat cu `-S`."
   ]
  },
  {
   "cell_type": "markdown",
   "metadata": {},
   "source": [
    "### site.addsitedir(sitedir, known_paths=None)"
   ]
  },
  {
   "cell_type": "markdown",
   "metadata": {},
   "source": [
    "Adaugă un director la `sys.path` și procesează toate fișierele `.pth`. Este folosită această metodă în cazul `sitecustomize` sau `usercustomize`."
   ]
  },
  {
   "cell_type": "markdown",
   "metadata": {},
   "source": [
    "### site.getsitepackages()"
   ]
  },
  {
   "cell_type": "markdown",
   "metadata": {},
   "source": [
    "Returnează o listă cu toate directoarele `site-packages` existente."
   ]
  },
  {
   "cell_type": "markdown",
   "metadata": {},
   "source": [
    "### site.getuserbase()"
   ]
  },
  {
   "cell_type": "markdown",
   "metadata": {},
   "source": [
    "Valoarea sa este calea către directorul `base` al utilizatorului - `USER_BASE`. Dacă încă nu este inițializat, această metodă va face acest lucru respectând PYTHONUSERBASE."
   ]
  },
  {
   "cell_type": "markdown",
   "metadata": {},
   "source": [
    "### site.getusersitepackages()"
   ]
  },
  {
   "cell_type": "markdown",
   "metadata": {},
   "source": [
    "Returnează calea către directorul `site-packages` al utilizatorului - `USER_SITE`. Dacă încă nu este inițializat, această metodă va face acest lucru respectând PYTHONUSERBASE și USER_BASE."
   ]
  },
  {
   "cell_type": "markdown",
   "metadata": {},
   "source": [
    "## Din linie de comandă"
   ]
  },
  {
   "cell_type": "markdown",
   "metadata": {},
   "source": [
    "Acest modul oferă o modalitate de a ajunge la directoarele utilizatorilor chiar din linia de comandă. De exemplu:\n",
    "\n",
    "```bash\n",
    "python3 -m site --user-site\n",
    "```\n",
    "\n",
    "Comanda va returna calea către directorul utilizatorului: `/home/user/.local/lib/python3.3/site-packages`.\n",
    "\n",
    "Dacă această comandă este apelată fără argumente, va returna conținutul lui `sys.path` urmat de valoarea lui `USER_BASE` și va spune dacă directorul există. La fel va face și pentru `USER_SITE`, încheind cu valoarea pentru `ENABLE_USER_SITE`.\n",
    "\n",
    "Dacă `--user-base` este pasat comezii ca opțiune, va fi returnat directorul de bază de unde începe construcția tuturor celorlalte. Pentru Linux, aceasta este `/home/nicolaie/.local`.\n",
    "\n",
    "Dacă ambele opțiuni vor fi introduse comenzii, mai întâi va fi afișată calea pentru user base și apoi pentru user site, fiind respectată această ordine, dar fiind separate printr-un `os.pathsep`."
   ]
  }
 ],
 "metadata": {
  "kernelspec": {
   "display_name": "Python 3",
   "language": "python",
   "name": "python3"
  },
  "language_info": {
   "codemirror_mode": {
    "name": "ipython",
    "version": 3
   },
   "file_extension": ".py",
   "mimetype": "text/x-python",
   "name": "python",
   "nbconvert_exporter": "python",
   "pygments_lexer": "ipython3",
   "version": "3.6.7"
  }
 },
 "nbformat": 4,
 "nbformat_minor": 2
}
