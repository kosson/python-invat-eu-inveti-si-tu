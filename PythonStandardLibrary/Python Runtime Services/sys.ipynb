{
 "cells": [
  {
   "cell_type": "markdown",
   "metadata": {},
   "source": [
    "# sys"
   ]
  },
  {
   "cell_type": "markdown",
   "metadata": {},
   "source": [
    "Acest modul oferă funcții și parametri specifici unui anumit sistem cu care interpretorul va interacționa."
   ]
  },
  {
   "cell_type": "markdown",
   "metadata": {},
   "source": [
    "## sys.base_exec_prefix"
   ]
  },
  {
   "cell_type": "markdown",
   "metadata": {},
   "source": [
    "Această variabilă este setată la momentul în care începe să ruleze interpreorul înainte de a fi executat `site.py` și este setată la aceeași valoare cu `sys.exec_prefix`. Dacă codul nostru nu va rula într-un mediu virtual, valorile vor fi identice. Dacă `site.py` realizează că se rulează codul într-un mediu virtual, atunci valorile lui `sys.prefix` și `sys.exec_prefix` vor fi setate pentru a indica mediul virtual. În același timp, `sys.base_prefix` și `sys.base_exec_prefix` vor indica locul în care a fost instalat prima dată Python-ul pe sistem."
   ]
  },
  {
   "cell_type": "markdown",
   "metadata": {},
   "source": [
    "## sys.exec_prefix"
   ]
  },
  {
   "cell_type": "markdown",
   "metadata": {},
   "source": [
    "Această variabilă oferă drept valoare un șir de caractere care reprezintă un prefix - un fragment al căii unde sunt instalate fișierele Python în funcție de sistemul de operare. Acest prefix are valaorea din oficiu `/usr/local`. Acest prefix poate fi modificat, dacă ai ales să instalezi Python 3 în alte zone decât cele oferite automat. Modificarea o aduci prin argumentul `--exec-prefix` adăugat la scriptul de configurare. De regulă, majoritatea fișierelor de configurare se găsesc în directorul `exec_prefix/lib/pythonX.Y/config`, iar modulele partajate cu diferitele aplicații, se găsesc la `exec_prefix/lib/pythonX.Y/lib-dynload`.\n",
    "\n",
    "Dacă este activat vreun mediu virtual, valoarea acestui prefix va fi modificată în `site.py` pentru a indica mediul virtual în care va rula aplicația. Totuși, va fi păstrat prefixul instalării de bază în `sys.base_exec_prefix`."
   ]
  },
  {
   "cell_type": "markdown",
   "metadata": {},
   "source": [
    "Referințe:\n",
    "- [Python 3 Docs: sys.exec_prefix](https://docs.python.org/3/library/sys.html#sys.exec_prefix])"
   ]
  },
  {
   "cell_type": "code",
   "execution_count": null,
   "metadata": {},
   "outputs": [],
   "source": []
  }
 ],
 "metadata": {
  "kernelspec": {
   "display_name": "Python 3",
   "language": "python",
   "name": "python3"
  },
  "language_info": {
   "codemirror_mode": {
    "name": "ipython",
    "version": 3
   },
   "file_extension": ".py",
   "mimetype": "text/x-python",
   "name": "python",
   "nbconvert_exporter": "python",
   "pygments_lexer": "ipython3",
   "version": "3.6.7"
  }
 },
 "nbformat": 4,
 "nbformat_minor": 2
}
