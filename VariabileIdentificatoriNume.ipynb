{
 "cells": [
  {
   "cell_type": "markdown",
   "metadata": {},
   "source": [
    "# Nume și identificatori"
   ]
  },
  {
   "cell_type": "markdown",
   "metadata": {},
   "source": [
    "Python 3 permite atribuirea unor valori unor identificatori, care se numesc *variabile*. Atribuirea variabilelor se face prin folosirea operatorului de atribuire care este egal.\n",
    "\n",
    "În Python, identificatorii sunt *case-sensitive*. Trebuie să înceapă cu o literă sau cu un underscore (`_`). Aceste caractere pot fi urmate de oricare altele dar și de cele care denumesc numerele. Numele rezervate ale limbajului nu pot fi utilizate drept identificatori.\n",
    "\n",
    "În anumite reprezentări de stare atunci când folosești diagrame, atribuirea variabileor este notată `ceva --> 10`."
   ]
  },
  {
   "cell_type": "code",
   "execution_count": 1,
   "metadata": {},
   "outputs": [
    {
     "name": "stdout",
     "output_type": "stream",
     "text": [
      "10\n"
     ]
    }
   ],
   "source": [
    "nume_variabila = 10\n",
    "print(nume_variabila)"
   ]
  },
  {
   "cell_type": "markdown",
   "metadata": {},
   "source": [
    "## Numele variabilelor\n",
    "\n",
    "Numele variabilelor trebuie să înceapă cu o literă. Nu sunt admise cifre sau caractere speciale. Majusculele sunt acceptate pentru numele variabilelor, dar în acest caz, convențiile de scriere a codului indică cazuri speciale de numire a unor structuri de cod speciale - clasele.\n",
    "\n",
    "Caracterul underscore poate fi utilizat în numirea variabilelor: `o_variabila`.\n",
    "\n",
    "O variabilă nu poate să fie unul dintre cuvintele rezervate ale limbajului.\n",
    "\n",
    "Cuvintele rezervate ale limbajului sunt: `and`, `as`, `assert`, `break`, `class`, `continue`, `def`, `del`, `elif`, `else`, `except`, `finally`, `for`, `from`, `global`, `if`, `import`, `in`, `is`, `lambda`, `not`, `or`, `pass`, `print`, `raise`, `return`, `try`, `while`, `with`, `yield`.numelor"
   ]
  },
  {
   "cell_type": "markdown",
   "metadata": {},
   "source": [
    "Un nume care începe cu un underscore trebuie înțeles ca o variabilă privată chiar dacă în Python nu există așa ceva."
   ]
  },
  {
   "cell_type": "code",
   "execution_count": 1,
   "metadata": {},
   "outputs": [],
   "source": [
    "_ceva = 10"
   ]
  },
  {
   "cell_type": "markdown",
   "metadata": {},
   "source": [
    "Ceea ce transmiți altor programatori este faptul că această variabilă nu ar trebui să fie modificată sau dacă este necesar, să se facă cu maximum de atenție privind toate implicațiile."
   ]
  },
  {
   "cell_type": "markdown",
   "metadata": {},
   "source": [
    "Un alt efect foarte important al folosirii underscore-ului este că la momentul în care se face un import, variabilele notate astfel, nu vor fi importate."
   ]
  },
  {
   "cell_type": "code",
   "execution_count": 3,
   "metadata": {},
   "outputs": [
    {
     "ename": "ModuleNotFoundError",
     "evalue": "No module named 'acest_modul'",
     "output_type": "error",
     "traceback": [
      "\u001b[0;31m---------------------------------------------------------------------------\u001b[0m",
      "\u001b[0;31mModuleNotFoundError\u001b[0m                       Traceback (most recent call last)",
      "\u001b[0;32m<ipython-input-3-225e76be92be>\u001b[0m in \u001b[0;36m<module>\u001b[0;34m()\u001b[0m\n\u001b[0;32m----> 1\u001b[0;31m \u001b[0;32mfrom\u001b[0m \u001b[0macest_modul\u001b[0m \u001b[0;32mimport\u001b[0m \u001b[0mo_biblioteca\u001b[0m\u001b[0;34m\u001b[0m\u001b[0m\n\u001b[0m",
      "\u001b[0;31mModuleNotFoundError\u001b[0m: No module named 'acest_modul'"
     ]
    }
   ],
   "source": [
    "from acest_modul import o_biblioteca"
   ]
  },
  {
   "cell_type": "markdown",
   "metadata": {},
   "source": [
    "Folosirea a două caractere underscore semnalează o procedură de scriere a codului numită *mangling*."
   ]
  },
  {
   "cell_type": "code",
   "execution_count": 4,
   "metadata": {},
   "outputs": [],
   "source": [
    "__ceva_din_obiectul_tau = 10"
   ]
  },
  {
   "cell_type": "markdown",
   "metadata": {},
   "source": [
    "Mai avem o situație în care vom folosi underscore în scrierea variabilelor. Este cazul în care începem și terminăm numele cu ele (*dunder-dunder* în limba engleză)."
   ]
  },
  {
   "cell_type": "code",
   "execution_count": 5,
   "metadata": {},
   "outputs": [],
   "source": [
    "__init__():\n",
    "    print('o clasă')"
   ]
  },
  {
   "cell_type": "markdown",
   "metadata": {},
   "source": [
    "Acest mod de a scrie variabilele indică faptul că avem de a face cu nume definite la nivel de system, care au un înțeles deosebit pentru interpretor."
   ]
  },
  {
   "cell_type": "markdown",
   "metadata": {},
   "source": [
    "## Atribuiri multiple\n",
    "\n",
    "Este posibil ca la un moment dat să poți atribui aceeași valoare mai multor variabile."
   ]
  },
  {
   "cell_type": "code",
   "execution_count": 1,
   "metadata": {},
   "outputs": [
    {
     "name": "stdout",
     "output_type": "stream",
     "text": [
      "10\n",
      "10\n"
     ]
    }
   ],
   "source": [
    "x = y = 10\n",
    "print(x)\n",
    "print(y)"
   ]
  },
  {
   "cell_type": "code",
   "execution_count": null,
   "metadata": {},
   "outputs": [],
   "source": []
  }
 ],
 "metadata": {
  "kernelspec": {
   "display_name": "Python 3",
   "language": "python",
   "name": "python3"
  },
  "language_info": {
   "codemirror_mode": {
    "name": "ipython",
    "version": 3
   },
   "file_extension": ".py",
   "mimetype": "text/x-python",
   "name": "python",
   "nbconvert_exporter": "python",
   "pygments_lexer": "ipython3",
   "version": "3.6.7"
  }
 },
 "nbformat": 4,
 "nbformat_minor": 2
}
