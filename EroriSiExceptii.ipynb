{
 "cells": [
  {
   "cell_type": "markdown",
   "metadata": {},
   "source": [
    "# Erori și excepții"
   ]
  },
  {
   "cell_type": "markdown",
   "metadata": {},
   "source": [
    "Pentru a testa un fragment de cod, se va putea folosi construcția `try`"
   ]
  },
  {
   "cell_type": "code",
   "execution_count": 8,
   "metadata": {},
   "outputs": [
    {
     "name": "stdout",
     "output_type": "stream",
     "text": [
      "Este o problemă dar rulez ce-i în except\n"
     ]
    }
   ],
   "source": [
    "try:\n",
    "    def test():\n",
    "        return 2 + '2'\n",
    "    test()\n",
    "except:\n",
    "    print('Este o problemă dar rulez ce-i în except')\n",
    "else:\n",
    "    print('Codul funcționează corect')"
   ]
  },
  {
   "cell_type": "markdown",
   "metadata": {},
   "source": [
    "Adăugarea unui bloc `finally` va conduce la rularea unui fragment de cod de fiecare dată indiferent dacă se execută corect sau nu ceea ce este în `try`. În ceea ce privește `except`, acesta poate fi instruit să execute codul din excepție în funcție de tipul condiției de eroare ce se dorește a fi semnalată."
   ]
  },
  {
   "cell_type": "code",
   "execution_count": 12,
   "metadata": {},
   "outputs": [
    {
     "name": "stdout",
     "output_type": "stream",
     "text": [
      "Ceva care ruleaza\n"
     ]
    }
   ],
   "source": [
    "try:\n",
    "    fisier = open('teste','w')\n",
    "    fisier.write('Introduc acest fragment')\n",
    "except TypeError: # execută doar dacă apare o eroare TypeError\n",
    "    print('A apărut o eroare!')\n",
    "except OSError:\n",
    "    print('A apărut o eroare în lucrul cu fișierul')\n",
    "except:\n",
    "    print('Aici prinde toate celelalte erori care ar putea apărea')\n",
    "finally:\n",
    "    print('Ceva care ruleaza')"
   ]
  },
  {
   "cell_type": "markdown",
   "metadata": {},
   "source": [
    "Rularea unei funcții până când primește valoarea dorită."
   ]
  },
  {
   "cell_type": "code",
   "execution_count": 16,
   "metadata": {},
   "outputs": [],
   "source": [
    "def vreau_o_valoare():\n",
    "    while True:\n",
    "        try:\n",
    "            valoare = int(input('introdu o valoare: '))\n",
    "        except:\n",
    "            print('Nu este un număr, te rog, introdu un număr')\n",
    "            continue\n",
    "        else:\n",
    "            print('Da, este un număr.')\n",
    "            break\n",
    "        finally:\n",
    "            print('Eu oricum mă execut indiferent de rezultat!')"
   ]
  },
  {
   "cell_type": "code",
   "execution_count": 17,
   "metadata": {},
   "outputs": [
    {
     "name": "stdout",
     "output_type": "stream",
     "text": [
      "introdu o valoare: ser\n",
      "Nu este un număr, te rog, introdu un număr\n",
      "Eu oricum mă execut indiferent de rezultat!\n",
      "introdu o valoare: der\n",
      "Nu este un număr, te rog, introdu un număr\n",
      "Eu oricum mă execut indiferent de rezultat!\n",
      "introdu o valoare: 3\n",
      "Da, este un număr.\n",
      "Eu oricum mă execut indiferent de rezultat!\n"
     ]
    }
   ],
   "source": [
    "vreau_o_valoare()"
   ]
  }
 ],
 "metadata": {
  "kernelspec": {
   "display_name": "Python 3",
   "language": "python",
   "name": "python3"
  },
  "language_info": {
   "codemirror_mode": {
    "name": "ipython",
    "version": 3
   },
   "file_extension": ".py",
   "mimetype": "text/x-python",
   "name": "python",
   "nbconvert_exporter": "python",
   "pygments_lexer": "ipython3",
   "version": "3.6.6"
  }
 },
 "nbformat": 4,
 "nbformat_minor": 2
}
