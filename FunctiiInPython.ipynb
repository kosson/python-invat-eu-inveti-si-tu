{
 "cells": [
  {
   "cell_type": "markdown",
   "metadata": {},
   "source": [
    "# Funcții în Python"
   ]
  },
  {
   "cell_type": "markdown",
   "metadata": {},
   "source": [
    "În Python, funcțiile sunt obiecte."
   ]
  },
  {
   "cell_type": "markdown",
   "metadata": {},
   "source": [
    "Funcțiile în Phyton sunt definite prin cuvântul cheie `def` urmate de un identificator scris cu underscore (*snake case*) urmat de un docstring care aduce informații despre funcție. Urmează corpul funcției. Apelul se face scriind identificatorul funcției urmat de paranteze rotunde."
   ]
  },
  {
   "cell_type": "code",
   "execution_count": 3,
   "metadata": {},
   "outputs": [
    {
     "name": "stdout",
     "output_type": "stream",
     "text": [
      "Salve!\n"
     ]
    }
   ],
   "source": [
    "def nume_functie():\n",
    "    '''\n",
    "    Acesta este docstring-ul!\n",
    "    '''\n",
    "    print('Salve!')\n",
    "nume_functie()"
   ]
  },
  {
   "cell_type": "code",
   "execution_count": 5,
   "metadata": {},
   "outputs": [
    {
     "name": "stdout",
     "output_type": "stream",
     "text": [
      "Help on function nume_functie in module __main__:\n",
      "\n",
      "nume_functie()\n",
      "    Acesta este docstring-ul!\n",
      "\n"
     ]
    }
   ],
   "source": [
    "help(nume_functie)"
   ]
  },
  {
   "cell_type": "markdown",
   "metadata": {},
   "source": [
    "## Definirea și execuția"
   ]
  },
  {
   "cell_type": "markdown",
   "metadata": {},
   "source": [
    "În Python trebuie să fii foarte atent unde faci apelul funcțiilor. Este permis ca în corpul unei funcții să ai la returnare rezultatul evaluării unei alte funcții definită mai târziu, dar invocare acesteia trebuie să se facă după momentul evaluării celei care va constitui rezultatul returnat."
   ]
  },
  {
   "cell_type": "code",
   "execution_count": 13,
   "metadata": {},
   "outputs": [],
   "source": [
    "def fac_ceva():\n",
    "    return fac_altceva()\n",
    "fac_ceva()\n",
    "def fac_altceva():\n",
    "    return 'Salve!'"
   ]
  },
  {
   "cell_type": "markdown",
   "metadata": {},
   "source": [
    "Apelarea unei funcții înainte de momentul definirii, se va solda cu o eroare."
   ]
  },
  {
   "cell_type": "markdown",
   "metadata": {},
   "source": [
    "## Parametrii poziționali"
   ]
  },
  {
   "cell_type": "markdown",
   "metadata": {},
   "source": [
    "Funcțiile admit argumente între parantezele rotunde. Aceste argumente poartă denumirea de *positional arguments*."
   ]
  },
  {
   "cell_type": "code",
   "execution_count": 8,
   "metadata": {},
   "outputs": [
    {
     "data": {
      "text/plain": [
       "'Salve!'"
      ]
     },
     "execution_count": 8,
     "metadata": {},
     "output_type": "execute_result"
    }
   ],
   "source": [
    "def alta_functie (ceva):\n",
    "    return ceva\n",
    "alta_functie('Salve!')"
   ]
  },
  {
   "cell_type": "markdown",
   "metadata": {},
   "source": [
    "În cazul în care dorești introducerea a mai multor argumente, menționezi parametrii poziționali unul după altul separați prin virgulă. Pentru a introduce valorile argumentelor, acestea vor fi pasate la apelarea funcției ca tuple."
   ]
  },
  {
   "cell_type": "code",
   "execution_count": 4,
   "metadata": {},
   "outputs": [
    {
     "data": {
      "text/plain": [
       "60"
      ]
     },
     "execution_count": 4,
     "metadata": {},
     "output_type": "execute_result"
    }
   ],
   "source": [
    "def ceva(a, b):\n",
    "    return sum((a,b)) # ține minte să introduci ca tuple\n",
    "ceva(20,40)"
   ]
  },
  {
   "cell_type": "markdown",
   "metadata": {},
   "source": [
    "Dacă este menționat un argument, dar acesta la apelarea funcției nu este pasat, va apărea o eroare. O eroare va mai apărea și dacă încerci să pasezi mai multe argumente decât parametrii. Atunci când este necesar poți documenta parametrii funcțiilor pentru a specifica tipul argumentelor care sunt așteptate. Trebuie spus faptul că interpretorul nu va ridica nicio eroare dacă sunt pasate argumente de un tip diferit. Specificarea tipul este doar pentru a documenta ceea ce se așteaptă."
   ]
  },
  {
   "cell_type": "code",
   "execution_count": 7,
   "metadata": {},
   "outputs": [
    {
     "data": {
      "text/plain": [
       "6"
      ]
     },
     "execution_count": 7,
     "metadata": {},
     "output_type": "execute_result"
    }
   ],
   "source": [
    "def inmultesc (x: int, y: int):\n",
    "    return x * y\n",
    "inmultesc(2, 3)"
   ]
  },
  {
   "cell_type": "markdown",
   "metadata": {},
   "source": [
    "Putem pasa și alte tipuri de valori."
   ]
  },
  {
   "cell_type": "code",
   "execution_count": 8,
   "metadata": {},
   "outputs": [
    {
     "data": {
      "text/plain": [
       "'ceva ceva '"
      ]
     },
     "execution_count": 8,
     "metadata": {},
     "output_type": "execute_result"
    }
   ],
   "source": [
    "inmultesc('ceva ', 2)"
   ]
  },
  {
   "cell_type": "markdown",
   "metadata": {},
   "source": [
    "## Parametri default"
   ]
  },
  {
   "cell_type": "markdown",
   "metadata": {},
   "source": [
    "Python acceptă parametri cu argumente din oficiu. Reține faptul că parametrii cu valori din oficiu trebuie să stea ultimii în șirul celor menționați în headerul funcției. În cazul în care amesteci un parametru cu valori implicite printre cei poziționali simpli, vei avea o eroare."
   ]
  },
  {
   "cell_type": "code",
   "execution_count": 9,
   "metadata": {},
   "outputs": [
    {
     "data": {
      "text/plain": [
       "'Am zis: bau'"
      ]
     },
     "execution_count": 9,
     "metadata": {},
     "output_type": "execute_result"
    }
   ],
   "source": [
    "def fac_ceva(val='bau'):\n",
    "    '''Despre funcții \n",
    "    parametrii default\n",
    "    '''\n",
    "    return 'Am zis: ' + val\n",
    "fac_ceva()"
   ]
  },
  {
   "cell_type": "code",
   "execution_count": 10,
   "metadata": {},
   "outputs": [
    {
     "data": {
      "text/plain": [
       "'Am zis: hau'"
      ]
     },
     "execution_count": 10,
     "metadata": {},
     "output_type": "execute_result"
    }
   ],
   "source": [
    "fac_ceva('hau')"
   ]
  },
  {
   "cell_type": "markdown",
   "metadata": {},
   "source": [
    "## Star args și kwargs"
   ]
  },
  {
   "cell_type": "markdown",
   "metadata": {},
   "source": [
    "Atunci când ai nevoie ca o funcție să poată gestiona mai multe argumente decât numărul specificat de parameri, vei folosi `*args` drept parametru. Parametrul `*args` este un tuple."
   ]
  },
  {
   "cell_type": "code",
   "execution_count": 4,
   "metadata": {},
   "outputs": [
    {
     "data": {
      "text/plain": [
       "70"
      ]
     },
     "execution_count": 4,
     "metadata": {},
     "output_type": "execute_result"
    }
   ],
   "source": [
    "def o_functie(*args):\n",
    "    return sum(args)\n",
    "\n",
    "o_functie(10,20,40)"
   ]
  },
  {
   "cell_type": "markdown",
   "metadata": {},
   "source": [
    "În locul cuvântului `args` poți pune orice termen, dar prin convenția practicii, este `args`. Ceea ce este important însă este necesitatea prezenței steluței."
   ]
  },
  {
   "cell_type": "markdown",
   "metadata": {},
   "source": [
    "Dacă nu este dorită introducerea valorilor primite de funcție într-un tuple, poți folosi `**kwargs`, care formează un dicționar de argumente."
   ]
  },
  {
   "cell_type": "code",
   "execution_count": 11,
   "metadata": {},
   "outputs": [
    {
     "name": "stdout",
     "output_type": "stream",
     "text": [
      "{'ceva': 'măr', 'altceva': 'bau'}\n",
      "Am aici măr\n"
     ]
    }
   ],
   "source": [
    "def ceva(**kwargs):\n",
    "    print(kwargs)\n",
    "    if 'ceva' in kwargs:\n",
    "        print('Am aici {}'.format(kwargs['ceva']))\n",
    "    else:\n",
    "        print('Nu găsesc fructe')\n",
    "\n",
    "ceva(ceva = 'măr', altceva = 'bau')"
   ]
  },
  {
   "cell_type": "markdown",
   "metadata": {},
   "source": [
    "Funcțiile în Python acceptă `*args` împreună cu `**kargs` în același header."
   ]
  },
  {
   "cell_type": "code",
   "execution_count": 13,
   "metadata": {},
   "outputs": [
    {
     "name": "stdout",
     "output_type": "stream",
     "text": [
      "(2, 4)\n",
      "{'ceva': 'bau'}\n"
     ]
    }
   ],
   "source": [
    "def altceva(*args, **kwargs):\n",
    "    print(args)\n",
    "    print(kwargs)\n",
    "altceva(2,4, ceva = 'bau')"
   ]
  },
  {
   "cell_type": "markdown",
   "metadata": {},
   "source": [
    "Singurul lucru de care trebuie să te asiguri este faptul că ai mereu `args` înaintea lui `kwargs` în headerul funcției."
   ]
  },
  {
   "cell_type": "markdown",
   "metadata": {},
   "source": [
    "## Funcții built-in"
   ]
  },
  {
   "cell_type": "markdown",
   "metadata": {},
   "source": [
    "Aceste funcții sunt oferite din oficiu de Python și sunt gata de a fi folosite pentru operațiunile curente de prelucrare a datelor."
   ]
  },
  {
   "cell_type": "code",
   "execution_count": 1,
   "metadata": {},
   "outputs": [
    {
     "data": {
      "text/plain": [
       "3"
      ]
     },
     "execution_count": 1,
     "metadata": {},
     "output_type": "execute_result"
    }
   ],
   "source": [
    "colectie = [1, 2, 3]\n",
    "len(colectie)"
   ]
  },
  {
   "cell_type": "markdown",
   "metadata": {},
   "source": [
    "Unele funcții built-in sunt structurate împreună cu altele înrudite în adevărate biblioteci de cod. În cazul în care ai nevoie să folosești unele dintre ele, mai întâi trebuie importate "
   ]
  },
  {
   "cell_type": "code",
   "execution_count": 3,
   "metadata": {},
   "outputs": [
    {
     "data": {
      "text/plain": [
       "3.0"
      ]
     },
     "execution_count": 3,
     "metadata": {},
     "output_type": "execute_result"
    }
   ],
   "source": [
    "from math import sqrt\n",
    "sqrt(9)"
   ]
  },
  {
   "cell_type": "markdown",
   "metadata": {},
   "source": [
    "Dacă ai nevoie de mai multe funcții dintr-o bibliotecă, cel mai potrivit ar fi să imporți modulul cu totul."
   ]
  },
  {
   "cell_type": "code",
   "execution_count": 6,
   "metadata": {},
   "outputs": [
    {
     "data": {
      "text/plain": [
       "3.141592653589793"
      ]
     },
     "execution_count": 6,
     "metadata": {},
     "output_type": "execute_result"
    }
   ],
   "source": [
    "import math\n",
    "math.pi"
   ]
  },
  {
   "cell_type": "markdown",
   "metadata": {},
   "source": [
    "## Lambdas"
   ]
  },
  {
   "cell_type": "markdown",
   "metadata": {},
   "source": [
    "Acestea sunt expresii care la momentul evaluării returnează o funcție."
   ]
  },
  {
   "cell_type": "code",
   "execution_count": 15,
   "metadata": {},
   "outputs": [
    {
     "data": {
      "text/plain": [
       "<function __main__.<lambda>(valoare)>"
      ]
     },
     "execution_count": 15,
     "metadata": {},
     "output_type": "execute_result"
    }
   ],
   "source": [
    "lambda valoare: valoare**2"
   ]
  },
  {
   "cell_type": "markdown",
   "metadata": {},
   "source": [
    "Expresiile lambda se pot folosi pentru a fi pasate unor alte funcții sau direct ca funcții dacă li se dau nume."
   ]
  },
  {
   "cell_type": "markdown",
   "metadata": {},
   "source": [
    "## Funcțiile returnează funcții"
   ]
  },
  {
   "cell_type": "markdown",
   "metadata": {},
   "source": [
    "În Python, funcțiile pot returna alte funcții."
   ]
  },
  {
   "cell_type": "code",
   "execution_count": 10,
   "metadata": {},
   "outputs": [],
   "source": [
    "def gazda(ceva=2):\n",
    "    def oaspete():\n",
    "        return ceva * 2\n",
    "    return oaspete"
   ]
  },
  {
   "cell_type": "code",
   "execution_count": 11,
   "metadata": {},
   "outputs": [
    {
     "data": {
      "text/plain": [
       "<function __main__.gazda(ceva=2)>"
      ]
     },
     "execution_count": 11,
     "metadata": {},
     "output_type": "execute_result"
    }
   ],
   "source": [
    "gazda"
   ]
  },
  {
   "cell_type": "code",
   "execution_count": 14,
   "metadata": {},
   "outputs": [
    {
     "data": {
      "text/plain": [
       "<function __main__.gazda.<locals>.oaspete()>"
      ]
     },
     "execution_count": 14,
     "metadata": {},
     "output_type": "execute_result"
    }
   ],
   "source": [
    "test = gazda()\n",
    "test"
   ]
  },
  {
   "cell_type": "code",
   "execution_count": 16,
   "metadata": {},
   "outputs": [
    {
     "data": {
      "text/plain": [
       "4"
      ]
     },
     "execution_count": 16,
     "metadata": {},
     "output_type": "execute_result"
    }
   ],
   "source": [
    "test()"
   ]
  },
  {
   "cell_type": "markdown",
   "metadata": {},
   "source": [
    "## Funcții ca argumente altora"
   ]
  },
  {
   "cell_type": "markdown",
   "metadata": {},
   "source": [
    "Funcțiile în Python pot primi alte funcții ca argumente."
   ]
  },
  {
   "cell_type": "code",
   "execution_count": 19,
   "metadata": {},
   "outputs": [],
   "source": [
    "def calator():\n",
    "    return 'Salut!'\n",
    "def destinatie(oaspete):\n",
    "    oaspete();"
   ]
  },
  {
   "cell_type": "code",
   "execution_count": 22,
   "metadata": {},
   "outputs": [
    {
     "data": {
      "text/plain": [
       "'Salut!'"
      ]
     },
     "execution_count": 22,
     "metadata": {},
     "output_type": "execute_result"
    }
   ],
   "source": [
    "calator()"
   ]
  },
  {
   "cell_type": "markdown",
   "metadata": {},
   "source": [
    "## Exerciții"
   ]
  },
  {
   "cell_type": "markdown",
   "metadata": {},
   "source": [
    "### Manipulare șir de caractere"
   ]
  },
  {
   "cell_type": "markdown",
   "metadata": {},
   "source": [
    "#### Intercalare majuscule"
   ]
  },
  {
   "cell_type": "markdown",
   "metadata": {},
   "source": [
    "Înlocuirea caracterelor de pe poziții pare cu minuscule și cele de pe pozițiile impare cu majuscule"
   ]
  },
  {
   "cell_type": "code",
   "execution_count": 43,
   "metadata": {},
   "outputs": [
    {
     "data": {
      "text/plain": [
       "'AnThRoPoMoRpHiSm'"
      ]
     },
     "execution_count": 43,
     "metadata": {},
     "output_type": "execute_result"
    }
   ],
   "source": [
    "def myfunc(a):\n",
    "    new = ''\n",
    "    for idx, char in enumerate(a):\n",
    "        if idx % 2 == 0:\n",
    "            new += char.upper()\n",
    "        else:\n",
    "            new += char\n",
    "    return new\n",
    "myfunc('Anthropomorphism')"
   ]
  },
  {
   "cell_type": "code",
   "execution_count": 54,
   "metadata": {},
   "outputs": [
    {
     "data": {
      "text/plain": [
       "'A~n~t~h~r~o~p~o~m~o~r~p~h~i~s~m~'"
      ]
     },
     "execution_count": 54,
     "metadata": {},
     "output_type": "execute_result"
    }
   ],
   "source": [
    "def test_nou(*args):\n",
    "    strs = ''\n",
    "    for char in args[0]:\n",
    "        strs += char + '~'\n",
    "    return strs\n",
    "test_nou('Anthropomorphism')\n"
   ]
  },
  {
   "cell_type": "markdown",
   "metadata": {},
   "source": [
    "#### Pig latin"
   ]
  },
  {
   "cell_type": "markdown",
   "metadata": {},
   "source": [
    "Dacă un cuvânt începe cu o vocală, adaugă la finalul cuvântului secvența *ay*. Dacă un cuvânt începe cu o consoană, ia acea consoană, șterge-o de la început și adaug-o la finalul cuvântului după care atașezi *ay*."
   ]
  },
  {
   "cell_type": "code",
   "execution_count": 3,
   "metadata": {},
   "outputs": [
    {
     "data": {
      "text/plain": [
       "'omethingsay'"
      ]
     },
     "execution_count": 3,
     "metadata": {},
     "output_type": "execute_result"
    }
   ],
   "source": [
    "def pig_latin(word):\n",
    "    first_letter = word[0]\n",
    "    # verifică dacă avem de-a face cu o vocală\n",
    "    if first_letter in 'aeiouăî':\n",
    "        pig_word = word + 'ay'\n",
    "    else:\n",
    "        pig_word = word[1:] + first_letter + 'ay'\n",
    "        \n",
    "    return pig_word\n",
    "\n",
    "pig_latin('something')"
   ]
  },
  {
   "cell_type": "markdown",
   "metadata": {},
   "source": [
    "#### Spy game"
   ]
  },
  {
   "cell_type": "markdown",
   "metadata": {},
   "source": [
    "Acest exercițiu se concentrează pe abilitatea de a detecta și compune secvențe de caractere. Se dă o listă în care sunt numere aleatoare. Scopul este de a găsi un 0 urmat de un altul și de un 7. Ideea este să faci o altă listă în care să ai secvența căutată și ori de câte ori este detectat una din componentele combinației căutate să-l elimini din listă."
   ]
  },
  {
   "cell_type": "code",
   "execution_count": 5,
   "metadata": {},
   "outputs": [
    {
     "data": {
      "text/plain": [
       "True"
      ]
     },
     "execution_count": 5,
     "metadata": {},
     "output_type": "execute_result"
    }
   ],
   "source": [
    "nums = [3,5,3,0,8,0,7,6]\n",
    "def spy_game (nums):\n",
    "    code = [0,0,7,'x']\n",
    "    for num in nums:\n",
    "        if num == code[0]:\n",
    "            code.pop(0)\n",
    "    return len(code) == 1\n",
    "spy_game(nums)"
   ]
  },
  {
   "cell_type": "markdown",
   "metadata": {},
   "source": [
    "#### Numără primele"
   ]
  },
  {
   "cell_type": "markdown",
   "metadata": {},
   "source": [
    "Proiectează o funcție care să găsească primele într-un interval închis de numere. Drept argument, funcția va primi limita superioară la care se face verificarea."
   ]
  },
  {
   "cell_type": "code",
   "execution_count": 7,
   "metadata": {},
   "outputs": [
    {
     "name": "stdout",
     "output_type": "stream",
     "text": [
      "[2, 3, 5, 7, 11, 13, 17, 19, 23, 29, 31]\n"
     ]
    },
    {
     "data": {
      "text/plain": [
       "11"
      ]
     },
     "execution_count": 7,
     "metadata": {},
     "output_type": "execute_result"
    }
   ],
   "source": [
    "def count_primes(num):\n",
    "    # verifica daca numarul introdus este 0 sau 1\n",
    "    if num < 2:\n",
    "        return 0\n",
    "    primes = [2]\n",
    "    x = 3\n",
    "    # x va fi limita inferioară de la care se va face verificarea\n",
    "    while x <= num:\n",
    "        for y in range(3,x,2): # verificarea se va face doar pe numerele impare, logic\n",
    "            if x%y == 0:\n",
    "                x += 2\n",
    "                break\n",
    "                # dacă ai un număr prim totuși, va trebui să-l adaugi listei (folosești for...else)\n",
    "        else:\n",
    "            primes.append(x) # dacă a apărut un număr prim, adaugă-l listei\n",
    "            x += 2 # și incrementează cu doi limita inferioară\n",
    "    print(primes)\n",
    "    return len(primes)\n",
    "count_primes(35)"
   ]
  },
  {
   "cell_type": "code",
   "execution_count": null,
   "metadata": {},
   "outputs": [],
   "source": []
  }
 ],
 "metadata": {
  "kernelspec": {
   "display_name": "Python 3",
   "language": "python",
   "name": "python3"
  },
  "language_info": {
   "codemirror_mode": {
    "name": "ipython",
    "version": 3
   },
   "file_extension": ".py",
   "mimetype": "text/x-python",
   "name": "python",
   "nbconvert_exporter": "python",
   "pygments_lexer": "ipython3",
   "version": "3.6.7"
  }
 },
 "nbformat": 4,
 "nbformat_minor": 2
}
