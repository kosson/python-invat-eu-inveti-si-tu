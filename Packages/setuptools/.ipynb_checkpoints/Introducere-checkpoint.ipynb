{
 "cells": [
  {
   "cell_type": "markdown",
   "metadata": {},
   "source": [
    "# setuptools"
   ]
  },
  {
   "cell_type": "markdown",
   "metadata": {},
   "source": [
    "Este un pachet care mărește capabilitățile pachetului `diskutils`. Este folosit pentru a construi și distribui pachete. Este folosit îndeosebi în cazul în care un pachet va avea dependințe care trebuie satisfăcute.\n",
    "\n",
    "Acest instrument căută, descarcă (HTTP, FTP, Subversion și SourceForge), instalează și actualizează dependințele și scanează automat paginile PyPi pentru a căuta linkurile de descărcare.\n",
    "\n",
    "Pachetul mai este folosit și pentru a crea Python Eggs, un format de fișier care conține tot ce este necesar pentru a a fi distribuit, ceea ce înseamnă că are posibilitatea de a căuta fișiere și în arhive zip.\n",
    "Folosirea lui `setuptools` are beneficiul că include automat toate pachetele din arborele proiectului fără a le mai lista individual în `setup.py`.\n",
    "\n",
    "Setuptools va introduce toate fișierele relevante pentru proiect fără a mai fi necesară constituirea unui fișier `MANIFEST.in`. De asemenea, nu mai este necesară regenerarea forțată a lui `MANIFEST.in` ori de câte ori sursele se modifică.\n",
    "\n",
    "Extinde utilitarul `diskutils` folosind argumente pasatel unui apel `setup()`."
   ]
  },
  {
   "cell_type": "markdown",
   "metadata": {},
   "source": [
    "## Instalare"
   ]
  },
  {
   "cell_type": "markdown",
   "metadata": {},
   "source": [
    "Pentru a instala cea mai nouă versiune a utilitarului `setuptools`, execuți `pip install -U setuptools`."
   ]
  }
 ],
 "metadata": {
  "kernelspec": {
   "display_name": "Python 3",
   "language": "python",
   "name": "python3"
  },
  "language_info": {
   "codemirror_mode": {
    "name": "ipython",
    "version": 3
   },
   "file_extension": ".py",
   "mimetype": "text/x-python",
   "name": "python",
   "nbconvert_exporter": "python",
   "pygments_lexer": "ipython3",
   "version": "3.6.7"
  }
 },
 "nbformat": 4,
 "nbformat_minor": 2
}
