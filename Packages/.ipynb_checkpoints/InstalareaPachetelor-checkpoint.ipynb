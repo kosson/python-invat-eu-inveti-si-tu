{
 "cells": [
  {
   "cell_type": "markdown",
   "metadata": {},
   "source": [
    "# Instalarea pachetelor"
   ]
  },
  {
   "cell_type": "markdown",
   "metadata": {},
   "source": [
    "Un pachet este similar unei distribuții, care este o colecție de scripturi grupate împreună. Instalarea pachetelor este în strânse legătură cu versiunea de Python folosită și cu setările de mediu.\n",
    "\n",
    "Pentru a afla versiunea de Python, din consolă inițiezi `python --version`. Este returnată versiunea instalată pe sistem. În cazul în care este instalată platforma Anaconda, răspunsul indică acest lucru: `Python 3.6.7 :: Anaconda, Inc.`, de exemplu. În cazul în care folosești un Jupyter notebook așa cum este acesta, cel mai bine este să ceri versiunea de Python care este folosită de software-ul din care faci interogarea."
   ]
  },
  {
   "cell_type": "code",
   "execution_count": 2,
   "metadata": {},
   "outputs": [
    {
     "name": "stdout",
     "output_type": "stream",
     "text": [
      "Python 3.6.7 :: Anaconda, Inc.\r\n"
     ]
    }
   ],
   "source": [
    "import sys\n",
    "!{sys.executable} --version"
   ]
  },
  {
   "cell_type": "markdown",
   "metadata": {},
   "source": [
    "Dacă folosești un sistem Linux, diferitele distribuții gestionează trecerea de la Python 2 la Python 3 în diferite moduri. Dacă nu folosești medii virtuale, pentru a folosi Python 3, va trebui să menționezi versiunea la apelarea executabilului precum `python3 ...` și `pip3 ... --user`."
   ]
  },
  {
   "cell_type": "markdown",
   "metadata": {},
   "source": [
    "## Actualizează pip, setuptools și wheel"
   ]
  },
  {
   "cell_type": "markdown",
   "metadata": {},
   "source": [
    "Utilitarul `pip` ar trebui să fie suficient pentru instalarea din arhive binare prebuilt. Pentru instalarea de pachete din arhive de cod sursă este nevoie de instalarea suplimentară a utilitarelor `setuptools` și `wheel`."
   ]
  },
  {
   "cell_type": "markdown",
   "metadata": {},
   "source": [
    "```bash\n",
    "python3 -m pip3 install --user --upgrade pip setuptools wheel\n",
    "```"
   ]
  },
  {
   "cell_type": "markdown",
   "metadata": {},
   "source": [
    "Fanionul `user` are drept efect instalarea pachetelor dorite în directorul specific utilizatorului. Pentru a vedea care este acest director poți afla cu `python -m site --user-base`."
   ]
  },
  {
   "cell_type": "markdown",
   "metadata": {},
   "source": [
    "## Instalarea cu pip"
   ]
  },
  {
   "cell_type": "markdown",
   "metadata": {},
   "source": [
    "Utilitarul `pip` este folosit pentru a instala pachete și distribuții din [Python Package Index (PyPI)](https://packaging.python.org/glossary/#term-python-package-index-pypi). Pentru comunitatea programatorilor Python, depozitul central este [PyPi](https://pypi.org/).\n",
    "\n",
    "Pentru a instala un pachet cu cea mai nouă versiune, pur și simplu `pip install nume_pachet`. Numele pachetului în jargonul Python se numește *requirement specifier*.\n",
    "\n",
    "Atunci când ai nevoie să instalezi o anumită versiune a unui pachet, va trebui să fie specificată această informație suplimentar numelui pachetului: `pip install \"nume_pachet==2.1\"`.\n",
    "\n",
    "Poți instala și un pachet a cărei versiune să fie între anumite limite: `pip install \"nume_pachet>1.5,<=2.2\"`. Am instruit `pip`-ul să instaleze un pachet care să fie superior versiunii 1.5, dar să nu fie mai mare de 2.2.\n",
    "\n",
    "Putem defini și niveluri de compatibilitate prin menționarea unui astfel de version specifier: `pip install \"nume_pachet~=1.6.1\"`. Acest lucru înseamnă instalarea unui pachet care să fie cu versiunea majoră 1, versiune minoră 6 și orice altceva după patch-ul cu numărul 1. Pe scurt, începînd cu 1.6.2 orice spre limita superioară a patch-ului.  "
   ]
  },
  {
   "cell_type": "markdown",
   "metadata": {},
   "source": [
    "## Resurse"
   ]
  },
  {
   "cell_type": "markdown",
   "metadata": {},
   "source": [
    "[Installing packages](https://packaging.python.org/tutorials/installing-packages/)"
   ]
  },
  {
   "cell_type": "code",
   "execution_count": null,
   "metadata": {},
   "outputs": [],
   "source": []
  }
 ],
 "metadata": {
  "kernelspec": {
   "display_name": "Python 3",
   "language": "python",
   "name": "python3"
  },
  "language_info": {
   "codemirror_mode": {
    "name": "ipython",
    "version": 3
   },
   "file_extension": ".py",
   "mimetype": "text/x-python",
   "name": "python",
   "nbconvert_exporter": "python",
   "pygments_lexer": "ipython3",
   "version": "3.6.7"
  }
 },
 "nbformat": 4,
 "nbformat_minor": 2
}
