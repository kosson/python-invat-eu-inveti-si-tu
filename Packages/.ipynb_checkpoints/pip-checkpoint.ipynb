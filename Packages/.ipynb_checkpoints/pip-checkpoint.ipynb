{
 "cells": [
  {
   "cell_type": "markdown",
   "metadata": {},
   "source": [
    "# pip"
   ]
  },
  {
   "cell_type": "markdown",
   "metadata": {},
   "source": [
    "Este un proiect al [PyPa](https://packaging.python.org/key_projects/#pip). Acest program rulează în linie de comandă.\n",
    "\n",
    "Instalarea pachetelor se poate face precizând versiunea necesară. Câteva exemple:\n",
    "\n",
    "```bash\n",
    "pip install UnPachet            # ultima versiune a pachetului\n",
    "pip install UnPachet==1.1.2     # o versiune specifică\n",
    "pip install 'UnPachet>=1.5.2'   # versiunea minimă\n",
    "```"
   ]
  },
  {
   "cell_type": "markdown",
   "metadata": {},
   "source": [
    "## Folosirea unui proxy"
   ]
  },
  {
   "cell_type": "markdown",
   "metadata": {},
   "source": [
    "În cazul în care rețeaua din care se face instalarea folosește un proxy, pentru a instala pachete este nevoie de precizarea credențialelor de acces. Accesul la depozitul de pachete se poate face prin câteva metode.\n",
    "\n",
    "### Folosirea opțiunii --proxy\n",
    "\n",
    "Pentru comoditate poți folosi opțiunea `--proxy` ca în `pip install ceva --proxy [user:passwd@]proxy.server:port`.\n",
    "\n",
    "### Faci un fișier de configurare\n",
    "\n",
    "Fișierul este la `$HOME/.config/pip/pip.conf`. Într-un `virtualenv` este `pip.conf`. În site-wide este la `/etc/pip.conf`. Dacă sunt mai multe fișiere de configurare toate sunt citite și combinate în următoarea ordine: site-wide, user și virtualenv. Citirea următorului `conf` va suprascrie valorile primului.\n",
    "\n",
    "### Setarea de variabile de mediu\n",
    "\n",
    "Aceste variabile pot fi `http_proxy`, `https_proxy` and `no_proxy`."
   ]
  },
  {
   "cell_type": "markdown",
   "metadata": {},
   "source": [
    "## Instalarea pachetelor necesare specificate în `requirements.txt`"
   ]
  },
  {
   "cell_type": "markdown",
   "metadata": {},
   "source": [
    "Fișierul requirements (cerințe) este un simplu fișier text care specifică pachetele pe care `pip` trebuie să le instaleze. Comanda de instalare arată precum următoarea:\n",
    "\n",
    "```bash\n",
    "pip install -r requirements.txt\n",
    "```\n",
    "\n",
    "Poți privi fișierul `requirements.txt` ca o sumă de argumente a lui `pip install`, care în loc să fie scrise într-o linie de comandă imensă, sunt puse într-un fișier.\n",
    "Nu te baza pe faptul că ordinea menționată în `requirements.txt` va fi respectată la instalarea pachetelor. Reține faptul că utilizarea lui `requirements.txt` nu este mecanismul prin care `pip` determină dependințele care trebuie instalate. Dependințele sunt menționate ca argumente în `install_requires`, care este pasat metodei `setup()`. Concluzie: `pip` nu va căuta `requirements.txt` pentru a rezolva dependințele. Cel mult va fi folosit pentru rezolvarea unor posibile conflicte punctuale.\n",
    "\n",
    "### Instalare fixă\n",
    "\n",
    "Pentru a obține aceleași rezultate la instalare, se va folosi `pip freeze`. În acest caz, fișierul `requirements.txt` este folosit pentru a *îngheța* versiunile pachetelor care vor fi instalate cu altă ocazie.\n",
    "\n",
    "```bash\n",
    "pip freeze > requirements.txt\n",
    "pip install -r requirements.txt\n",
    "```\n",
    "\n",
    "### Rezolvarea dependințelor\n",
    "\n",
    "Acest fișier poate fi folosit și ca mecanism de rezolvare a conflictelor pe care instalarea dependințelor l-ar produce. Dacă un pachet cere pe altul cu o anumită versiune, iar acesta cere pe altul la o anumită versiune, cel de-al treilea ar putea fi în potențial conflict cu primul. Utilitarul `pip` nu are un mecanism de rezolvare a dependințelor, fișierul `requirements.txt` putând fi considerat un real ajutor în astfel de scenarii. Menționând condițiile în care numărul de versiune trebuie să se încadreze, constituie un adevărat ajutor în rezolvarea unor astfel de conflicte.\n",
    "\n",
    "```text\n",
    "pachet_unu\n",
    "pachet_doi\n",
    "pachet_trei>=1.2.1,<1.3\n",
    "```\n",
    "\n",
    "### Forțarea unei versiuni\n",
    "\n",
    "Poți folosi `requirements.txt` pentru a regla o dependință care s-a dovedit că introduce buguri. Astfel, prin modificarea lui `requirements.txt` poți forța instalarea unei alte versiuni fără probleme.\n",
    "\n",
    "```text\n",
    "pachet_unu\n",
    "pachet_doi<1.4\n",
    "```\n",
    "\n",
    "### Acceptarea unei versiuni proprii\n",
    "\n",
    "Dacă un pachet are o eroare și nu dorești să aștepți patch-ul viitor, poți descărca sursele, le modifici și pui în VCS după care în `requirements.txt` locația de unde să ia pachetul reparat.\n",
    "\n",
    "```text\n",
    "git+https://nume_utilizator/dependinta_reparata@numetagcustom#egg=NumelePachetuluiReparat\n",
    "```\n"
   ]
  },
  {
   "cell_type": "markdown",
   "metadata": {},
   "source": [
    "Reține faptul că metoda `setup()` se folosește în cazul în care pachete este unul care trebuie să fie redistribuit, iar folosirea unui fișier `requirements.txt` este pentru aplicații care nu au în intenție redistribuirea.\n",
    "\n",
    "Fișierul `requirements.txt.` este folosit pentru evidența dependințelor de la nivelul cel mai înalt și atunci când este necesar, pentru menționarea versiunilor pachetelor necesare proiectului.\n",
    "\n",
    "Dacă versiunile pachetelor nu sunt menționate, este foarte probabil ca într-o viitoare instalare de pachete, acestea să nu mai corespundă cerințelor aplicației și erorile să apară.\n",
    "\n",
    "Menționarea strictă a pachetelor care vor fi instalate cu `pip install -r requirements.txt` este cazul cel mai fericit pentru a fi respectate și în viitor aceleași versiuni cu care aplicația funcționează.\n",
    "\n",
    "```text\n",
    "Flask==1.0.2\n",
    "idna==2.0\n",
    "```\n",
    "\n",
    "O variantă de acest tip poate fi obținută folosind `pip freeze`. Din nefericire, actualizarea pachetelor cu un `pip install --upgrade` nu va fi posibilă. Singura posibilitate de upgrade a pachetelor, va fi cea manuală folosind `pip install requests[security] flask --upgrade`, de exemplu."
   ]
  },
  {
   "cell_type": "markdown",
   "metadata": {},
   "source": [
    "## Instalare din Wheels"
   ]
  },
  {
   "cell_type": "markdown",
   "metadata": {},
   "source": [
    "Wheel este un format de arhivă care poate accelera instalarea comparativ cu cea făcută din arhivele sursă. Dacă aceste arhive sunt disponibile, `pip` va încerca mai întâi instalarea acestora. Dacă nu se dorește instalarea din arhivele wheel, se va specifica opțiunea `--no-binary`.\n",
    "\n",
    "```python\n",
    "pip install NumePachet.whl\n",
    "```\n",
    "\n",
    "Utilitarul `pip` oferă și posibilitatea de construi aceste arhive pentru toate cerințele și dependințele. Următoarele comenzi construiesc arhive wheel pentru tot ce-i în `requirements.txt` și toate dependințele lor.\n",
    "\n",
    "```python\n",
    "pip install wheel\n",
    "pip wheel --wheel-dir=/local/wheels -r requirements.txt\n",
    "```\n",
    "\n",
    "Pentru a le instala mai apoi, poți executa directorul local de arhive wheels, nu existentele din PyPi.\n",
    "\n",
    "```python\n",
    "pip install --no-index --find-links=/local/wheels -r requirements.txt\n",
    "```"
   ]
  },
  {
   "cell_type": "markdown",
   "metadata": {},
   "source": [
    "## Dezinstalarea unui pachet"
   ]
  },
  {
   "cell_type": "markdown",
   "metadata": {},
   "source": [
    "Pentru a dezinstala un pachet se folosește subcomanda `uninstall`.\n",
    "\n",
    "```bash\n",
    "pip uninstall SomePackage\n",
    "````\n",
    "În cazul în care se actualizează pachetele la o versiune mai nouă, cele vechi vor fi automat dezinstalate."
   ]
  },
  {
   "cell_type": "markdown",
   "metadata": {},
   "source": [
    "## Listarea pachetelor existente"
   ]
  },
  {
   "cell_type": "markdown",
   "metadata": {},
   "source": [
    "Pentru a lista pachetele deja existente se va folosi `pip list`. Pentru a lista pachetele care sunt mai vechi `pip list --outdated`.\n",
    "\n",
    "Pentru a vedea detalii despre un anume pachet se va folosi `pip show NumePachet`."
   ]
  },
  {
   "cell_type": "markdown",
   "metadata": {},
   "source": [
    "## Căutarea pachetelor"
   ]
  },
  {
   "cell_type": "markdown",
   "metadata": {},
   "source": [
    "Pentru a căuta un pachet se va folosi `pip search \"numePachet\"`."
   ]
  },
  {
   "cell_type": "markdown",
   "metadata": {},
   "source": [
    "## Instalarea din VSC-uri"
   ]
  },
  {
   "cell_type": "markdown",
   "metadata": {},
   "source": [
    "Pip oferă posibilitatea de a instala pachete din mai multe depozite de software care mențin versiuni ale pachetelor."
   ]
  },
  {
   "cell_type": "markdown",
   "metadata": {},
   "source": [
    "## Configurarea pip-ului"
   ]
  },
  {
   "cell_type": "markdown",
   "metadata": {},
   "source": [
    "În cazul în care este nevoie, `pip` poate fi configurat cu ajutorul unui fișier de tip `ini`. Poți seta conf-uri la nivel de utilizator (per-user), per-virtualenv sau site-wide (va afecta toți utilizatorii).\n",
    "\n",
    "Când este afectat doar utilizatorul curent, fișierul de configurare se va găsi în `$HOME/.config/pip/pip.conf`. Cu ajutorul variabilei de mediu `PIP_CONFIG_FILE` se poate specifica o altă locație a fișierului de configurare.\n",
    "\n",
    "Pentru `virtualenv`, fișierul de configurare se va găsi în `$VIRTUAL_ENV/pip.conf`. La nivel site-wide este posibil să găsești fișierul de configurare la `/etc/pip.conf`.\n",
    "\n",
    "Dacă Python detectează mai multe fișiere de configurare, le va citi în ordinea site-wide, utilizator, mediu virtual  și le va combina cu rescrierea tuturor valorilor dacă acestea se modifică în următorul.\n",
    "\n",
    "Pentru opțiunile `--index-url` și `--default-timeout`, fișierul de configurare poate avea următoarele intrări:\n",
    "\n",
    "```ini\n",
    "[general]\n",
    "timeout = 60\n",
    "index-url = https://download.ceva.ro/unpachet\n",
    "```\n",
    "\n",
    "Fiecare subcomandă poate fi configurată într-o secțiune proprie astfel încât fiecare setare globală care are același nume va fi suprascrisă. Exemplul oferit de manual este cel al subcomenzii `freeze`, care are specificat un `timeout` mai mic decât cel valabil la nivel global.\n",
    "\n",
    "```ini\n",
    "[global]\n",
    "timeout = 60\n",
    "\n",
    "[freeze]\n",
    "timeout = 10\n",
    "```\n",
    "\n",
    "Opțiuni precum --ignore-installed sau --no-dependencies pot avea următoarele intrări.\n",
    "\n",
    "```ini\n",
    "[install]\n",
    "ignore-installed = true\n",
    "no-dependencies = yes\n",
    "```\n",
    "\n",
    "Opțiunile care privesc compilarea și ignorarea directorului de cache local se vor seta astfel:\n",
    "\n",
    "```ini\n",
    "[global]\n",
    "no-cache-dir = false\n",
    "\n",
    "[install]\n",
    "no-compile = no\n",
    "```\n",
    "\n",
    "Opțiuni precum `--find-links` pot fi suprascrise introducându-le pe mai multe linii precum în:\n",
    "\n",
    "```ini\n",
    "[global]\n",
    "find-links =\n",
    "    http://download.example.com\n",
    "\n",
    "[install]\n",
    "find-links =\n",
    "    http://mirror1.example.com\n",
    "    http://mirror2.example.com\n",
    "```\n"
   ]
  },
  {
   "cell_type": "markdown",
   "metadata": {},
   "source": [
    "## Variabile de mediu"
   ]
  },
  {
   "cell_type": "markdown",
   "metadata": {},
   "source": [
    "Opțiunile comenzii `pip` pot fi setate și ca variabile de mediu folosindu-se formatarea textului astfel: PIP_<NUME_DE_OPȚIUNE>. Fii atentă la underscore. Este necesar.\n",
    "\n",
    "```bash\n",
    "export PIP_DEFAULT_TIMEOUT=60\n",
    "```\n",
    "\n",
    "Exemplul oferit de documentație este echivalent cu `pip --default-timeout=60 restul_comenzii`.\n",
    "\n",
    "Există posibilitatea de a introduce mai multe valori despărțite prin spațiu pentru a evita scrierea repetată.\n",
    "\n",
    "```bash\n",
    "export PIP_FIND_LINKS=\"http://mirror1.example.com http://mirror2.example.com\"\n",
    "```\n",
    "\n",
    "Fiind echivalent cu:\n",
    "\n",
    "```bash\n",
    "pip install --find-links=http://mirror1.example.com --find-links=http://mirror2.example.co\n",
    "```\n",
    "\n",
    "### Precendență\n",
    "\n",
    "Opțiunile liniei de comandă au precedență peste variabilele de mediu. Variabilele de mediu au precedență peste fișierele de configurare.\n",
    "\n",
    "În cadrul unui fișier de configurare, secțiunile care sunt specifice unei comenzi vor avea precedență peste secțiunea `global`.\n",
    "\n",
    "Manualul oferă câteva exemple edificatoare: `--host=foo` are precedență peste `PIP_HOST=foo`, iar acesta din urmă are precedență peste ceea ce este în secțiunea global a fișierului de configurare `[global] host = foo`."
   ]
  },
  {
   "cell_type": "markdown",
   "metadata": {},
   "source": [
    "## Instalarea din pachete locale"
   ]
  },
  {
   "cell_type": "markdown",
   "metadata": {},
   "source": [
    "Uneori dorești să instalezi doar din pachete locale, fără a mai face trafic pe PyPI. Pentru acest lucru, mai întâi descarci arhivele de care ai nevoie\n",
    "\n",
    "```bash\n",
    "pip install --download PRECIZEZI_DIRECTORUL -r requirements.txt\n",
    "```\n",
    "\n",
    "Trebuie remarcat faptul că `pip install --download` se va uita în cache-ul wheel mai întâi de a începe să descarce de pe PyPI. Dacă nu ai mai instalat înainte `requirements`-urile, nu va fi fost generat niciun cache pentru acele pachete. În acel caz, dacă ce este menționat în `requirements` nu vin din PyPI ca wheels-uri și dorești să fie wheels-uri, poți rula `pip wheel --wheel-dir NUME_DIRECTOR -r requirements.txt`. Imediat după poți face o instalare cu precizarea opțiunilor `--find-links` și `--no-index`.\n",
    "\n",
    "```bash\n",
    "pip install --no-index --find-links=NUME_DIRECTOR -r requirements.txt\n",
    "```"
   ]
  },
  {
   "cell_type": "markdown",
   "metadata": {},
   "source": [
    "## Actualizarea pachetelor"
   ]
  },
  {
   "cell_type": "markdown",
   "metadata": {},
   "source": [
    "Actualizarea pachetelor se face cu `pip install --upgrade`. Suplimentar, există o opțiune `--upgrade-strategy` care controlează felul în care `pip` gestionează actualizarea dependințelor.\n",
    "\n",
    "Strategiile de actualizare pot fi *eager* ceea ce înseamnă că toate dependințele vor fi actualizate indiferent dacă încă satisfac noile cerințe ale părintelui, și *only-if-needed*, care actualizează o dependință doar dacă nu mai satisface cerințele noi ale părintelui.\n",
    "\n",
    "Strategia care este adoptată din oficiu este *only-if-needed*."
   ]
  },
  {
   "cell_type": "markdown",
   "metadata": {},
   "source": [
    "## Instalare la nivel de utilizator"
   ]
  },
  {
   "cell_type": "markdown",
   "metadata": {},
   "source": [
    "Începând cu versiunea 2.6, a fost adoptată schema de instalare a pachetelor la nivel de utilizator. [Documentația istorică](https://docs.python.org/3/install/index.html#alternate-installation-the-user-scheme) aduce lămuriri cuprinzătoare privind evoluția.\n",
    "\n",
    "Necesitatea acestei scheme se dovedește în momentul când un utilizator nu are posibilitatea de a scrie pe disc în directorul `site-packages` pentru că nu-i este permis sau nu dorește acest lucru.\n",
    "\n",
    "Această schemă este activată prin menționarea opțiunii `--user` precum în `python setup.py install --user`. Fișierele vor fi instalate în subdirectoarele corespunzătoare în rădăcina precizată prin `site.USER_BASE`.\n",
    "\n",
    "Această instalare va crea următoarele structuri\n",
    "\n",
    "|Tip de fișier|Cale de instalare și director|\n",
    "|:-|:-|\n",
    "|modules|userbase/lib/pythonX.Y/site-packages|\n",
    "|scripts|userbase/bin|\n",
    "|data|userbase|\n",
    "|C headers|userbase/include/pythonX.Yabiflags/distname|"
   ]
  },
  {
   "cell_type": "markdown",
   "metadata": {},
   "source": [
    "## pip install"
   ]
  },
  {
   "cell_type": "markdown",
   "metadata": {},
   "source": [
    "Această subcomandă va instala pachetele din PyPI, surse locale sau sisteme de versionare.\n",
    "\n",
    "Pip va instala mai întâi toate dependințele și abia după aceea pachetele care depind de acestea.\n",
    "Pip poate instala pachete folosind și fișiere `requirements.txt`. Informația din astfel de fișiere este structurată pe linii. Fiecare linie menționează un pachet care trebuie instalat sau sursa din care se va instala. Aceste linii se numesc [requirements specifiers](https://pip.pypa.io/en/latest/reference/pip_install/#requirement-specifiers).\n",
    "\n",
    "```python\n",
    "SomeProject\n",
    "SomeProject == 1.3\n",
    "SomeProject >=1.2,<.2.0\n",
    "SomeProject[foo, bar]\n",
    "SomeProject~=1.4.2\n",
    "# si environment markers - vezi PEP 508\n",
    "SomeProject ==5.4 ; python_version < '2.7'\n",
    "SomeProject; sys_platform == 'win32'\n",
    "[-e] <local project path>\n",
    "[-e] <vcs project url>\n",
    "```\n",
    "\n",
    "O linie care începe cu `#` va fi considerată un comentariu, iar una care se încheie cu `\\` trebuie considerată a fi un *line continuation*, adică ceea ce urmează pe linia următoare ar trebui privit ca parte a aceleiași linii logice.\n",
    "\n",
    "Sunt permise și câteva opțiuni:\n",
    "\n",
    "- -i, --index-url\n",
    "- --extra-index-url\n",
    "- --no-index\n",
    "- -f, --find-links\n",
    "- --no-binary\n",
    "- --only-binary\n",
    "- --require-hashes\n",
    "\n",
    "```python\n",
    "--no-index\n",
    "--find-links /my/local/archives\n",
    "--find-links http://some.archives.com/archives\n",
    "```\n",
    "\n",
    "Atunci când este necesar, se pot instala pachete din mai multe fișiere `requirements`.\n",
    "\n",
    "```python\n",
    "-r alt_requirements.txt\n",
    "```\n",
    "\n",
    "Se pot specifica și fișierele de constrîngere\n",
    "\n",
    "```python\n",
    "-c ceva_constraints.txt\n",
    "```\n",
    "\n",
    "Pip permite și includerea unor variabile de mediu în fișierele `requirements.txt` dacă acest lucru este necesar.\n",
    "Un exemplu orientativ este pus la dispoziție de documentație.\n",
    "\n",
    "```python\n",
    "#\n",
    "####### example-requirements.txt #######\n",
    "#\n",
    "###### Requirements without Version Specifiers ######\n",
    "nose\n",
    "nose-cov\n",
    "beautifulsoup4\n",
    "#\n",
    "###### Requirements with Version Specifiers ######\n",
    "#   See https://www.python.org/dev/peps/pep-0440/#version-specifiers\n",
    "docopt == 0.6.1             # Version Matching. Must be version 0.6.1\n",
    "keyring >= 4.1.1            # Minimum version 4.1.1\n",
    "coverage != 3.5             # Version Exclusion. Anything except version 3.5\n",
    "Mopidy-Dirble ~= 1.1        # Compatible release. Same as >= 1.1, == 1.*\n",
    "#\n",
    "###### Refer to other requirements files ######\n",
    "-r other-requirements.txt\n",
    "#\n",
    "#\n",
    "###### A particular file ######\n",
    "./downloads/numpy-1.9.2-cp34-none-win32.whl\n",
    "http://wxpython.org/Phoenix/snapshot-builds/wxPython_Phoenix-3.0.3.dev1820+49a8884-cp34-none-win_amd64.whl\n",
    "#\n",
    "###### Additional Requirements without Version Specifiers ######\n",
    "#   Same as 1st section, just here to show that you can put things in any order.\n",
    "rejected\n",
    "green\n",
    "#\n",
    "```\n",
    "\n",
    "Pentru acest exemplu instalarea se va face prin comanda:\n",
    "\n",
    "```bash\n",
    "pip install -r example-requirements.txt\n",
    "```\n",
    "\n",
    "### Opțiuni de suprascriere per pachet\n",
    "\n",
    "Începând cu versiunea 7 a lui `pip`, se pot introduce opțiuni pe liniile din fișierul `requirements.txt`. Acest lucru este posibil în utilizarea interpretorului cu `setup.py`. Pentru a pasa opțiunile către `setup.py`, se vor folosi opțiunile `--global-option` și `--install-option`.\n",
    "\n",
    "```python\n",
    "FooProject >= 1.2 --global-option=\"--no-user-cfg\" \\\n",
    "                  --install-option=\"--prefix='/usr/local'\" \\\n",
    "                  --install-option=\"--no-compile\"\n",
    "```\n",
    "\n",
    "Această intrare în `requirements.txt` ar avea ca echivalent următoarea linie de comandă.\n",
    "\n",
    "```bash\n",
    "python setup.py --no-user-cfg install --prefix='/usr/local' --no-compile\n",
    "```\n",
    "\n",
    "### Instalarea din VCS-uri\n",
    "\n",
    "Pip permite instalarea pachetelor din Versioning Control Services cum sunt Git, Mercurial, Subversion și Bazaar detectând următoarele prefixe `git+`, `hg+`, `bzr+`, `svn+`.\n",
    "\n",
    "Se pot instala pachete în mod `-editable` (`-e`) sau nu.\n",
    "\n",
    "Pentru instalările în mod editabil, locația din oficiu în care se va face clonarea în cazul în care folosim medii virtuale este `<calea venv>/src/NumeProiect`, iar în cazul în care se fac instalări la nivel global, clonarea se va face în `<cwd>/src/NumeProiect`. Dacă se dorește, opțiunea `-src` poate fi utilizată pentru a modifica această locație.\n",
    "\n",
    "Pentru instalările care nu se doresc în mod editabil, proiectul este construit la nivel local într-un director temporar și apoi este instalat normal. Atenție, dacă un pachet este deja instalat, sursa VCS nu-l va suprascrie fără a fi menționat un fanion `-upgrade`. Cerințele VCS fixează versiunea pachetului pentru commitul care va fi țintit. Acesta este specificat în fișierul `setup.py`. Subcomanda `freeze` a lui `pip` va înregistra specificatorul cerințelor VCS, care trimite la un anumit commit, doar dacă instalarea se face cu opțiunea `editable`.\n",
    "\n",
    "Partea cu numele proiectului din sufixul url-ului - `egg=<nume pachet>` este folosită de `pip` în stabilirea dependințelor pentru a identifica proiectul înainte de a descărca și analiza metadatele. Pentru proiectele în care `setup.py` nu este în rădăcina proiectului, se folosește componenta `subdirectory`. Valoarea acesteia ar trebui să fie o cale care pornește de la rădăcina proiectului până unde este localizat `setup.py`.\n",
    "Să presupunem că avem un pachet cu următoarea structură internă\n",
    "\n",
    "```text\n",
    "        pkg_dir/\n",
    "            setup.py # setup.py for package pkg\n",
    "            some_module.py\n",
    "        other_dir/\n",
    "            some_file\n",
    "        some_other_file\n",
    "```\n",
    "\n",
    "Pentru a instala pachetul, vei executa `pip install -e vcs+protocol://repo_url/#egg=pkg&subdirectory=pkg_dir`.\n",
    "\n",
    "#### Git\n",
    "\n",
    "Pip poate instala din căi cu următoarele prefixuri `git`, `git+http`, `git+https`, `git+ssh`, `git+git` și `git+file`.\n",
    "\n",
    "```python\n",
    "[-e] git://git.example.com/MyProject#egg=MyProject\n",
    "[-e] git+http://git.example.com/MyProject#egg=MyProject\n",
    "[-e] git+https://git.example.com/MyProject#egg=MyProject\n",
    "[-e] git+ssh://git.example.com/MyProject#egg=MyProject\n",
    "[-e] git+git://git.example.com/MyProject#egg=MyProject\n",
    "[-e] git+file:///home/user/projects/MyProject#egg=MyProject\n",
    "-e git+git@git.example.com:MyProject#egg=MyProject\n",
    "```\n",
    "\n",
    "Se pot pasa și hashuri de commit.\n",
    "\n",
    "```python\n",
    "[-e] git://git.example.com/MyProject.git@master#egg=MyProject\n",
    "[-e] git://git.example.com/MyProject.git@v1.0#egg=MyProject\n",
    "[-e] git://git.example.com/MyProject.git@da39a3ee5e6b4b0d3255bfef95601890afd80709#egg=MyProject\n",
    "```\n",
    "\n",
    "### Căutarea pachetelor\n",
    "\n",
    "Pentru a instala pachetele cerute, `pip` va căuta în PyPI cu singura condiție ca acest lucru să nu fie dezactivat via `--no-index`, va căuta în sistemul local de fișiere și în toate depozitele suplimentare care au fost specificate via `--find-links` sau prin `--index-url`.\n",
    "\n",
    "Instalarea se face fără a se respecta o ordine a locațiilor în care se face căutarea. Căutarea se face în toate locurile pentru a se găsi cea mai bună potrivire.\n",
    "\n",
    "### Caching\n",
    "\n",
    "Începând cu versiunea 6, `pip` oferă un cache, care funcționează similar cu cel al unui browser web. Dacă este nevoie, cache-ul poate fi dezactivat și poți accesa PyPI direct folosind opțiunea `--no-cache-dir`.\n",
    "\n",
    "Atunci când se face o cerere HTTP, `pip` va verifica mai întâi cache-ul local pentru a determina dacă are un răspuns (care nu a expirat) corespunzător cererii. În caz de răspuns pozitiv, pur și simplu este returnat răspunsul din cache și nu mai face cererea.\n",
    "\n",
    "Dacă există un răspuns, dar acesta a expirat, atunci va încerca să facă o cerere condițională pentru a împrospăta cache-ul, care fie va returna un răspuns gol care îi va spune lui `pip` să folosească pachetul din cache (împrospătând timerul de expirare) sau va returna un nou răspuns cu totul nou, pe care `pip` îl va stoca în cache.\n",
    "\n",
    "Atunci când stochează pachete în cache, `pip` va lua în considerare headerul `CacheControl` dacă acesta există sau va recurge la header-ul `Expires` dacă acesta există. Acest mecanism face ca `pip` să aibă comportamentul unui browser ceea ce permite serverului de indexare să comunice lui `pip` cât timp este considerat a fi rezonabil să pună în cache un pachet.\n",
    "\n",
    "Cache-ul va încerca să reducă comunicarea online la un minim. Dacă dorești, se poate face doar instalare locală, fără a mai interoga PyPI-ul.\n",
    "\n",
    "Cache-ul se află fizic în `~/.cache/pip`.\n",
    "\n",
    "Cache-ul este făcut și pentru pachetele wheels. În cache există un subdirector dedicat acestora și vor fi folosite pachetele descoperite acolo. Dacă se dorește, se poate dezactiva cu aceeași opțiune `--no-cache-dir` care dezactivează și cache-ul HTTP.\n",
    "\n",
    "### Verificarea hash-ului\n",
    "\n",
    "Începând cu versiunea 8, `pip` poate verifica arhivele pachetelor cu hash-uri locale pentru a preveni instalarea unor pachete compromise.\n",
    "\n",
    "```python\n",
    "FooProject == 1.2 --hash=sha256:2cf24dba5fb0a30e26e83b2ac5b9e29e1b161e5c1fa7425e73043362938b9824 \\\n",
    "                  --hash=sha256:486ea46224d1bb4fb680f34f7c9ad96a8f24ec88be73ea8e5a6c65260e9cb8a7\n",
    "```\n"
   ]
  },
  {
   "cell_type": "markdown",
   "metadata": {},
   "source": [
    "Posibilitatea de a folosi mai multe hash-uri este relevantă pentru cazurile în care un pachet are distribuții binare dar și la nivel de sursă sau atunci când folosește distribuții binare pentru diferitele platforme existente.\n",
    "\n",
    "Preferabilă este folosirea unui algoritm sha256. Verificarea hash-urilor poate fi forțată prin opțiunea `--require-hashes`.\n",
    "\n",
    "```bash\n",
    "pip install --require-hashes -r requirements.txt\n",
    "```\n",
    "\n",
    "În timpul verificării hash-urilor, este dezactivat cache-ul `wheels`-urilor.\n",
    "\n",
    "Manualul avertizează asupra situațiilor când securitatea poate fi afectată atunci când se face instalarea proiectului folosind `setuptools` așa cum ai face-o cu `python setup.py install`, `python setup.py develop` sau folosind `easy_install`. Setuptools, va instala din afară orice nu este fixat la o anumită versiune în `requirements.txt`. Pentru a păstra nivelul de securitate intenționat prin folosirea unor versiuni de pachete cunoscute, se va proceda la instalarea proiectului folosind `pip` și opțiunea `--no-deps`.\n",
    "\n",
    "În loc de a folosi `python setup.py develop`, optează pentru \n",
    "\n",
    "```python\n",
    "pip install --no-deps -e .\n",
    "```\n",
    "\n",
    "iar în loc de `python setup.py install`, folosește\n",
    "\n",
    "```python\n",
    "pip install --no-deps .\n",
    "```"
   ]
  },
  {
   "cell_type": "markdown",
   "metadata": {},
   "source": [
    "## Instalări editable\n",
    "\n",
    "Instalările *editabile* sunt instalări setuptools în modul develop. O instalare în mod editabile permite instalări din pachete locale sau proiecte de pe sisteme de evidență a versiunilor (VCS-uri).\n",
    "\n",
    "```bash\n",
    "pip install -e cale/către/UnProiect\n",
    "pip install -e git+http://repo/proiectul_meu.git#egg=UnProiect\n",
    "```\n",
    "\n",
    "În cazul proiectelor locale, directorul `NumeProiect.egg-info` se va crea relativ la căile proiectului. În cazul lui `setup.py develop`, acest director se va crea relativ la directorul de lucru curent."
   ]
  },
  {
   "cell_type": "markdown",
   "metadata": {},
   "source": [
    "## Opțiunile comenzii\n",
    "\n",
    "`-r, --requirement <file>`\n",
    "\n",
    "Va instala pachetele dintr-un fișier requirements. Această opțiune poate fi utilizată de mai multe ori.\n",
    "\n",
    "`-c, --constraint <file>`\n",
    "\n",
    "Indică folosirea unui fișier în care sunt specificate limitările. Această opțiune poate fi utilizată de mai multe ori.\n",
    "\n",
    "`--no-deps`\n",
    "\n",
    "Nu instala dependințele pachetelor.\n",
    "\n",
    "`--pre`\n",
    "\n",
    "Include versiunile de pre-release și cele de dezvoltare. Din capul locului, `pip` găsește versiunile stabile.\n",
    "\n",
    "`-e, --editable <path/url>`\n",
    "\n",
    "Opțiunea instalează proiectul în modul editabil (i.e. setuptools va face instalarea în “develop mode”) din calea unui proiect local sau din url-ul unui VCS.\n",
    "\n",
    "`-t, --target <dir>`\n",
    "\n",
    "Instalează pachetele în directorul specificat. Din oficiu această opțiune nu va înlocui fișierele /directoarele pe care le găsește în directorul specificat. Pentru a înlocui aceste pachete descoperite, se va folosi opțiunea `--upgrade`. Pachetele vor fi actualizate la versiunea cea mai nouă.\n",
    "\n",
    "`--platform <platform>`\n",
    "\n",
    "Folosește doar `wheels` care sunt compatibile cu platforma indicată înadins. Dacă nu este specificată vreuna, se va apela la platfoma sistemului.\n",
    "\n",
    "\n",
    "`--python-version <python_version>`\n",
    "\n",
    "Folosește versiunea de wheels care este compatibilă cu versiunea de Python. Poți specifica versiunea de Python care să fie folosită de `pip`.\n"
   ]
  },
  {
   "cell_type": "markdown",
   "metadata": {},
   "source": [
    "## Resurse\n",
    "\n",
    "- [pip](https://pip.readthedocs.io/en/latest/)\n",
    "- [setup.py vs requirements.txt](https://caremad.io/posts/2013/07/setup-vs-requirement/)\n",
    "- [pip install](https://pip.pypa.io/en/latest/reference/pip_install/)\n",
    "- [PEP 508 -- Dependency specification for Python Software Packages](https://www.python.org/dev/peps/pep-0508/#environment-markers)"
   ]
  },
  {
   "cell_type": "code",
   "execution_count": null,
   "metadata": {},
   "outputs": [],
   "source": []
  }
 ],
 "metadata": {
  "kernelspec": {
   "display_name": "Python 3",
   "language": "python",
   "name": "python3"
  },
  "language_info": {
   "codemirror_mode": {
    "name": "ipython",
    "version": 3
   },
   "file_extension": ".py",
   "mimetype": "text/x-python",
   "name": "python",
   "nbconvert_exporter": "python",
   "pygments_lexer": "ipython3",
   "version": "3.7.4"
  }
 },
 "nbformat": 4,
 "nbformat_minor": 2
}
