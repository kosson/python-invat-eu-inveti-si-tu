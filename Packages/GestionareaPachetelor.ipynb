{
 "cells": [
  {
   "cell_type": "markdown",
   "metadata": {},
   "source": [
    "# Gestionarea pachetelor"
   ]
  },
  {
   "cell_type": "markdown",
   "metadata": {},
   "source": [
    "Un pachet este o colecție de software scrisă de cineva spre uzul general al celorlalți. Pentru a distribui un pachet, acesta trebuie însoțit cu un set de metadate cum ar fi numele, versiunea, alte dependințe, etc.\n",
    "\n",
    "Atunci când folosești metoda `setup()` pusă la dispoziție de utilitarul `setuptools`, poți specifica toate metadatele ca argumente.\n",
    "\n",
    "```python\n",
    "install_requires = [\n",
    "    'Flask>=0.11.1',\n",
    "    'invenio-app>=1.0.4,<1.1.0',\n",
    "    'invenio-base>=1.0.1,<1.1.0',\n",
    "    'invenio-celery>=1.0.0,<1.1.0',\n",
    "    'invenio-config>=1.0.1,<1.1.0',\n",
    "    'invenio-i18n>=1.1.0,<1.2.0',\n",
    "]\n",
    "\n",
    "setup(\n",
    "    name='invenio',\n",
    "    version=version,\n",
    "    description=__doc__,\n",
    "    long_description=readme,\n",
    "    keywords='Invenio digital library framework',\n",
    "    license='MIT',\n",
    "    author='CERN',\n",
    "    author_email='info@inveniosoftware.org',\n",
    "    url='https://github.com/inveniosoftware/invenio',\n",
    "    install_requires=install_requires,\n",
    "    setup_requires=setup_requires\n",
    ")\n",
    "```"
   ]
  },
  {
   "cell_type": "markdown",
   "metadata": {},
   "source": [
    "Exemplul este o prescurtare a fișierului `setup.py` de la https://github.com/inveniosoftware/invenio/blob/master/setup.py.\n",
    "\n",
    "Aplicațiile sunt colecții de pachete care împreună realizează un obiectiv. Dacă acestea sunt pe PyPi, pentru a face deployment, are nevoie de un fișier special de configurare a acelui deployment.\n",
    "\n",
    "Reține faptul că metoda `setup()` se folosește în cazul în care pachete este unul care trebuie să fie redistribuit, iar folosirea unui fișier `requirements.txt` este pentru a ține evidența pachetelor și versiunilor acestora."
   ]
  },
  {
   "cell_type": "code",
   "execution_count": null,
   "metadata": {},
   "outputs": [],
   "source": []
  }
 ],
 "metadata": {
  "kernelspec": {
   "display_name": "Python 3",
   "language": "python",
   "name": "python3"
  },
  "language_info": {
   "codemirror_mode": {
    "name": "ipython",
    "version": 3
   },
   "file_extension": ".py",
   "mimetype": "text/x-python",
   "name": "python",
   "nbconvert_exporter": "python",
   "pygments_lexer": "ipython3",
   "version": "3.6.7"
  }
 },
 "nbformat": 4,
 "nbformat_minor": 2
}
