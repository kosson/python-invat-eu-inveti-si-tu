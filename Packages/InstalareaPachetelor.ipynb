{
 "cells": [
  {
   "cell_type": "markdown",
   "metadata": {},
   "source": [
    "# Instalarea pachetelor"
   ]
  },
  {
   "cell_type": "markdown",
   "metadata": {},
   "source": [
    "Un pachet este similar unei distribuții, care este o colecție de scripturi grupate împreună. Instalarea pachetelor este în strânse legătură cu versiunea de Python folosită și cu setările de mediu.\n",
    "\n",
    "Pentru a afla versiunea de Python, din consolă inițiezi `python --version`. Este returnată versiunea instalată pe sistem. În cazul în care este instalată platforma Anaconda, răspunsul indică acest lucru: `Python 3.6.7 :: Anaconda, Inc.`, de exemplu. În cazul în care folosești un Jupyter notebook așa cum este acesta, cel mai bine este să ceri versiunea de Python care este folosită de software-ul din care faci interogarea."
   ]
  },
  {
   "cell_type": "code",
   "execution_count": 2,
   "metadata": {},
   "outputs": [
    {
     "name": "stdout",
     "output_type": "stream",
     "text": [
      "Python 3.6.7 :: Anaconda, Inc.\r\n"
     ]
    }
   ],
   "source": [
    "import sys\n",
    "!{sys.executable} --version"
   ]
  },
  {
   "cell_type": "markdown",
   "metadata": {},
   "source": [
    "Dacă folosești un sistem Linux, diferitele distribuții gestionează trecerea de la Python 2 la Python 3 în diferite moduri. Dacă nu folosești medii virtuale, pentru a folosi Python 3, va trebui să menționezi versiunea la apelarea executabilului precum `python3 ...` și `pip3 ... --user`."
   ]
  },
  {
   "cell_type": "markdown",
   "metadata": {},
   "source": [
    "## Actualizează pip, setuptools și wheel"
   ]
  },
  {
   "cell_type": "markdown",
   "metadata": {},
   "source": [
    "Utilitarul `pip` ar trebui să fie suficient pentru instalarea din arhive binare prebuilt. Pentru instalarea de pachete din arhive de cod sursă este nevoie de instalarea suplimentară a utilitarelor `setuptools` și `wheel`."
   ]
  },
  {
   "cell_type": "markdown",
   "metadata": {},
   "source": [
    "```bash\n",
    "python3 -m pip3 install --user --upgrade pip setuptools wheel\n",
    "```"
   ]
  },
  {
   "cell_type": "markdown",
   "metadata": {},
   "source": [
    "Fanionul `user` are drept efect instalarea pachetelor dorite în directorul specific utilizatorului. Pentru a vedea care este acest director poți afla cu `python -m site --user-base`. Folosirea lui `--user` când ești într-un mediu virtual, nu are niciun efect."
   ]
  },
  {
   "cell_type": "markdown",
   "metadata": {},
   "source": [
    "## Instalarea cu pip"
   ]
  },
  {
   "cell_type": "markdown",
   "metadata": {},
   "source": [
    "Utilitarul `pip` este folosit pentru a instala pachete și distribuții din [Python Package Index (PyPI)](https://packaging.python.org/glossary/#term-python-package-index-pypi). Pentru comunitatea programatorilor Python, depozitul central este [PyPi](https://pypi.org/).\n",
    "\n",
    "`Pip` poate instala, fie dintr-un Sourse Distribution (sdist), fie dintr-un `wheel`, dacă acesta există. Pip va prefera întotdeauna un wheel compatibil dacă există. Avantajul unui wheel este că pachetul este deja într-un format gata de a fi distribuit, ceea ce permite o instalare mai rapidă, opus unor surse de distribuție. Dacă `pip` nu găsește un `wheel`, va contrui unul pe care îl va pune în cache pentru instalări ulterioare care să nu mai necesite încă o dată o procedură de build.\n",
    "\n",
    "Pentru a instala un pachet cu cea mai nouă versiune, pur și simplu `pip install nume_pachet`. Numele pachetului în jargonul Python se numește *requirement specifier*.\n",
    "\n",
    "Atunci când ai nevoie să instalezi o anumită versiune a unui pachet, va trebui să fie specificată această informație suplimentar numelui pachetului: `pip install \"nume_pachet==2.1\"`.\n",
    "\n",
    "Poți instala și un pachet a cărei versiune să fie între anumite limite: `pip install \"nume_pachet>1.5,<=2.2\"`. Am instruit `pip`-ul să instaleze un pachet care să fie superior versiunii 1.5, dar să nu fie mai mare de 2.2.\n",
    "\n",
    "Putem defini și niveluri de compatibilitate prin menționarea unui astfel de version specifier: `pip install \"nume_pachet~=1.6.1\"`. Acest lucru înseamnă instalarea unui pachet care să fie cu versiunea majoră 1, versiune minoră 6 și orice altceva după patch-ul cu numărul 1. Pe scurt, începând cu 1.6.2 orice spre limita superioară a patch-ului.\n",
    "\n",
    "Citește documentația `pip` pentru a înțelege detaliile și cum sunt folosite noile scheme adoptate. Materialul documentar de la `pip` trebuie parcurs."
   ]
  },
  {
   "cell_type": "markdown",
   "metadata": {},
   "source": [
    "## Upgrade-ul pachetelor\n",
    "\n",
    "Actualizarea unui anumit pachet se face simplu prin menționarea lui `--upgrade`.\n",
    "\n",
    "```bash\n",
    "pip install --upgrade nume_pachet\n",
    "```"
   ]
  },
  {
   "cell_type": "markdown",
   "metadata": {},
   "source": [
    "## Instalarea în directorul utilizatorului\n",
    "\n",
    "Începând cu versiunea 2.6, Python permite instalarea pachetelor în directorul utilizatorului.\n",
    "\n",
    "```bash\n",
    "pip install --user nume_pachet\n",
    "```\n",
    "\n",
    "Ceea ce trebuie menționat este faptul că `--user` nu are niciun efect în momentul în care lucrezi într-un mediu virtual.\n",
    "\n",
    "Dacă pachetul definește niște scripturi care vor fi apelate, sau entry points de consolă, opțiunea `--user`, va conduce la instalarea acestora în directorul binarelor din `user base` (îl afli cu `python -m site --user-base`). "
   ]
  },
  {
   "cell_type": "markdown",
   "metadata": {},
   "source": [
    "## Instalarea dependințelor\n",
    "\n",
    "În anumite cazuri este nveoie să se instaleze dependințele specificate în fișierul `requirements.txt`.\n",
    "\n",
    "```bash\n",
    "pip install -r requirements.txt\n",
    "```"
   ]
  },
  {
   "cell_type": "markdown",
   "metadata": {},
   "source": [
    "## Instalare din sisteme de versionare\n",
    "\n",
    "Pip poate instala pachete care se află în sisteme de versionare.\n",
    "\n",
    "```bash\n",
    "pip install -e git+https://git.repo/some_pkg.git#egg=SomeProject          # from git\n",
    "pip install -e hg+https://hg.repo/some_pkg#egg=SomeProject                # from mercurial\n",
    "pip install -e svn+svn://svn.repo/some_pkg/trunk/#egg=SomeProject         # from svn\n",
    "pip install -e git+https://git.repo/some_pkg.git@feature#egg=SomeProject  # from a branch\n",
    "```"
   ]
  },
  {
   "cell_type": "markdown",
   "metadata": {},
   "source": [
    "## Instalarea din alte surse - servere proprii\n",
    "\n",
    "Instalarea unui pachet dintr-o sursă alta decât PyPI sau sistemele de versionare.\n",
    "\n",
    "```bash\n",
    "pip install --index-url http://my.package.repo/simple/ SomeProject\n",
    "```\n",
    "\n",
    "Pip poate căuta și în depozite alternative chiar în momentul parcurgerii surselor PyPI.\n",
    "\n",
    "```bash\n",
    "pip install --extra-index-url http://my.package.repo/simple SomeProject\n",
    "```"
   ]
  },
  {
   "cell_type": "markdown",
   "metadata": {},
   "source": [
    "## Instalare cu posibilitate de editare\n",
    "\n",
    "Pip poate instala pachete din directorul `src`, ceea ce permite instalarea pachetelor în mod *development*, dar poți continua editarea surselor din `src`.\n",
    "\n",
    "```bash\n",
    "pip install -e <path>\n",
    "```\n",
    "\n",
    "Poți instala direct din directorul `src`.\n",
    "\n",
    "```bash\n",
    "pip install <path>\n",
    "```"
   ]
  },
  {
   "cell_type": "markdown",
   "metadata": {},
   "source": [
    "## Instalare din arhive locale\n",
    "\n",
    "Poți instala pachete din arhive locale.\n",
    "\n",
    "```bash\n",
    "pip install ./downloads/UnProiect-1.0.4.tar.gz\n",
    "```\n",
    "\n",
    "Poți instala și din directoare locale fără a mai interoga PyPI. Acest lucru este menționat prin `--no-index` combinat cu `--find-links`.\n",
    "\n",
    "```bash\n",
    "pip install --no-index --find-links=file:///local/dir/ UnProiect\n",
    "pip install --no-index --find-links=/local/dir/ UnProiect\n",
    "pip install --no-index --find-links=relative/dir/ UnProiect\n",
    "```\n",
    "\n",
    "### Instalarea din alte surse\n",
    "\n",
    "```bash\n",
    "pip install --extra-index-url http://localhost:7777 UnProiect\n",
    "```"
   ]
  },
  {
   "cell_type": "markdown",
   "metadata": {},
   "source": [
    "## Instalarea din pre-releas-uri\n",
    "\n",
    "Pip permite instalarea din pachete care sunt pre-releasuri sau versiuni de dezvoltare. Reține faptul că `pip` face instalare doar din versiuni stabile.\n",
    "\n",
    "```bash\n",
    "pip install --pre UnProiect\n",
    "```"
   ]
  },
  {
   "cell_type": "markdown",
   "metadata": {},
   "source": [
    "## Instalarea de extras cu setuptools\n",
    "\n",
    "Pip poate instala pachetele cerute cu mențiunea ca acestea să instaleze la rândul lor alte pachete - [setuptools extras](https://setuptools.readthedocs.io/en/latest/setuptools.html#declaring-extras-optional-features-with-their-own-dependencies).\n",
    "\n",
    "```bash\n",
    "pip install SomePackage[PDF]\n",
    "pip install SomePackage[PDF]==3.0\n",
    "pip install -e .[PDF]==3.0  # editable project in current directory\n",
    "```"
   ]
  },
  {
   "cell_type": "markdown",
   "metadata": {},
   "source": [
    "## Resurse"
   ]
  },
  {
   "cell_type": "markdown",
   "metadata": {},
   "source": [
    "[Installing packages](https://packaging.python.org/tutorials/installing-packages/)"
   ]
  },
  {
   "cell_type": "code",
   "execution_count": null,
   "metadata": {},
   "outputs": [],
   "source": []
  }
 ],
 "metadata": {
  "kernelspec": {
   "display_name": "Python 3",
   "language": "python",
   "name": "python3"
  },
  "language_info": {
   "codemirror_mode": {
    "name": "ipython",
    "version": 3
   },
   "file_extension": ".py",
   "mimetype": "text/x-python",
   "name": "python",
   "nbconvert_exporter": "python",
   "pygments_lexer": "ipython3",
   "version": "3.6.7"
  }
 },
 "nbformat": 4,
 "nbformat_minor": 2
}
