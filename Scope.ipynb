{
 "cells": [
  {
   "cell_type": "markdown",
   "metadata": {},
   "source": [
    "# Scope"
   ]
  },
  {
   "cell_type": "markdown",
   "metadata": {},
   "source": [
    "În Python, variabilele stau în ceea ce se numește `namespace`."
   ]
  },
  {
   "cell_type": "markdown",
   "metadata": {},
   "source": [
    "## Regulile LEGB"
   ]
  },
  {
   "cell_type": "markdown",
   "metadata": {},
   "source": [
    "Aceste reguli determină modul în care se face căutarea numelor."
   ]
  },
  {
   "cell_type": "markdown",
   "metadata": {},
   "source": [
    "L: Local"
   ]
  },
  {
   "cell_type": "markdown",
   "metadata": {},
   "source": [
    "Sunt nume atribuite într-o funcție declarată cu `def` și `lambda`, dar nu sunt declarate în mediul global."
   ]
  },
  {
   "cell_type": "markdown",
   "metadata": {},
   "source": [
    "E: Eclosing"
   ]
  },
  {
   "cell_type": "markdown",
   "metadata": {},
   "source": [
    "Se referă la includerea identificatorilor localizați la nivel de funcție. Sunt numele care sunt în scope-ul local a oricăror posibile funcții incluse (def sau lambda), pornind de la interior către exterior."
   ]
  },
  {
   "cell_type": "markdown",
   "metadata": {},
   "source": [
    "G: Global (module)"
   ]
  },
  {
   "cell_type": "markdown",
   "metadata": {},
   "source": [
    "Numele atribuite la top-level-ul unui fișier care reprezintă un modul sau o declarație de nivel global dintr-o funcție dintr-un fișier."
   ]
  },
  {
   "cell_type": "markdown",
   "metadata": {},
   "source": [
    "B: Built-in"
   ]
  },
  {
   "cell_type": "markdown",
   "metadata": {},
   "source": [
    "Sunt nume pre-atribuite în module de nume built-in: open, range, SyntaxError"
   ]
  },
  {
   "cell_type": "code",
   "execution_count": null,
   "metadata": {},
   "outputs": [],
   "source": []
  }
 ],
 "metadata": {
  "kernelspec": {
   "display_name": "Python 3",
   "language": "python",
   "name": "python3"
  },
  "language_info": {
   "codemirror_mode": {
    "name": "ipython",
    "version": 3
   },
   "file_extension": ".py",
   "mimetype": "text/x-python",
   "name": "python",
   "nbconvert_exporter": "python",
   "pygments_lexer": "ipython3",
   "version": "3.6.6"
  }
 },
 "nbformat": 4,
 "nbformat_minor": 2
}
