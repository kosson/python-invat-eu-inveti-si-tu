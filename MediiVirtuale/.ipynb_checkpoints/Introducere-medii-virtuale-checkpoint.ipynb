{
 "cells": [
  {
   "cell_type": "markdown",
   "metadata": {},
   "source": [
    "# Medii virtuale în Python 3"
   ]
  },
  {
   "cell_type": "markdown",
   "metadata": {},
   "source": [
    "Un mediu virtual Python este un mod de a rula izolat o aplicație Python. Izolarea se va realiza față de instalarea de bază a Python, dar și față de celelalte medii virtuale existente.\n",
    "\n",
    "Realizarea mediilor virtuale în Python se leagă de înțelegerea modulelor și mai ales a lui `sys`, de care Python3 se va folosi pentru a culege date despre căile din sistem unde sunt puse resursele.\n",
    "\n",
    "Un mediu virtual constă dintr-un director în care va exista o ierarhie de subdirectoare și executabile cu ajutorul cărora se va face izolarea inclusiv la momentul în care se vor instala pachete. Odată creat un mediu virtual, acesta trebuie activat ceea ce conduce la rularea interpretorului Python în acel mediu virtual.\n",
    "\n",
    "Atunci când un mediu virtual este activat, vom acea valorile `sys.prefix` și `sys.exec_prefix` indicând căile din mediul virtual, nu cele ale instalării de bază. Valorile către instalarea de bază vor fi accesibile prin `sys.base_prefix` și `sys.base_exec_prefix`."
   ]
  },
  {
   "cell_type": "markdown",
   "metadata": {},
   "source": [
    "În acest moment sunt două modalități de a crea medii virtuale în Python. Una este prin folosirea lui `venv` și alta prin utilizarea lui `virtualenv`.\n",
    "\n",
    "Utilitarul `venv` este disponibil automat începând cu Python 3.3. Începând cu Python 3.4 sunt instalate automat în mediul virtual `pip` și `setuptools`.\n",
    "\n",
    "```bash\n",
    "python3 -m venv nume_director\n",
    "source nume_director/bin/activate\n",
    "```\n",
    "\n",
    "Pentru a crea mediul virtual, trebuie mai întâi să alegi directorul în care va fi creat un subdirector. Abia acesta va fi gazda noului mediu creat. Reține faptul că această comandă va crea subdirectorul. \n",
    "\n",
    "Utilitarul `virtualenv` trebuie instalat manual. Acesta instalează automat pentru mediul virtual creat `pip`, `setuptools` și `wheel`."
   ]
  }
 ],
 "metadata": {
  "kernelspec": {
   "display_name": "Python 3",
   "language": "python",
   "name": "python3"
  },
  "language_info": {
   "codemirror_mode": {
    "name": "ipython",
    "version": 3
   },
   "file_extension": ".py",
   "mimetype": "text/x-python",
   "name": "python",
   "nbconvert_exporter": "python",
   "pygments_lexer": "ipython3",
   "version": "3.6.7"
  }
 },
 "nbformat": 4,
 "nbformat_minor": 2
}
