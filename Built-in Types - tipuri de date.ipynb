{
 "cells": [
  {
   "cell_type": "markdown",
   "metadata": {},
   "source": [
    "# Tipuri de date\n",
    "\n",
    "Pyhon 3 oferă posibilitatea de a lucra cu mai multe tipuri de date. Tipurile se înscriu în numerice, secvențe, mapări, clase, instanțe și excepții.\n",
    "\n",
    "Pentru a identifica tipurile de date, este pus la dispoziția progrmatorului, funcția internă `type()`."
   ]
  },
  {
   "cell_type": "code",
   "execution_count": 4,
   "metadata": {},
   "outputs": [
    {
     "data": {
      "text/plain": [
       "int"
      ]
     },
     "execution_count": 4,
     "metadata": {},
     "output_type": "execute_result"
    }
   ],
   "source": [
    "variabila = 10\n",
    "type(variabila)"
   ]
  },
  {
   "cell_type": "code",
   "execution_count": 3,
   "metadata": {},
   "outputs": [
    {
     "data": {
      "text/plain": [
       "str"
      ]
     },
     "execution_count": 3,
     "metadata": {},
     "output_type": "execute_result"
    }
   ],
   "source": [
    "type('ceva')"
   ]
  },
  {
   "cell_type": "markdown",
   "metadata": {},
   "source": [
    "## Valori de adevăr\n",
    "\n",
    "Acestea sunt `True` și `False`. Reține faptul că totul în Python 3 aparține unui obiect sau este un obiect. Toate obiectele se reduc la valoarea de adevăr `True` cu excepțiile în care clasa în baza căreia a fost instanțiat are o metodă `__bool__()`, care returnează `False`, ori o metodă `__len__()` care returnează zero când este apelată în contextul obiectului.\n",
    "\n",
    "Constantele `None` și `False` sunt evaluate de interpretor la valoarea `False`.\n",
    "Valoarea zero (`0`) a oricărui tip numeric, va fi redusă de interpretor la valoarea `False`.\n",
    "Secvențele de caractere goale precum `''`, `()`, `[]`, `{}`, `set()` și `range()` vor fi și ele reduse la `False`.\n",
    "\n",
    "Toate operațiunile, precum și funcțiile built-in care returnează o valoare de adevăr în urma evaluării, vor returna `0` pentru `False` și `1` pentru `True`.\n",
    "\n",
    "În cazul unor operațiuni în care sunt implicați `or` și `and`, rezutatul returnat va fi unul dintre operanzi.\n",
    "\n",
    "|Operațiune|Rezultat|Notă|\n",
    "|:-|:-|:-|\n",
    "|x`or`y|dacă x este false, atunci y, else x|(1)|\n",
    "|x`and`y|dacă x este false, atunci x, else y|(2)|\n",
    "|`not`x|dacă x este false, atunci `True`, else `False`|(3)|\n",
    "\n",
    "(1) Acesta este un operator de scurt-circuitare: va evalua doar pe cel de-al doilea argument dacă primul este false.\n",
    "(2) Tot un operator de scurt-circuitare: va evalua doar pe cel de-al doilea argument dacă primul este true.\n",
    "(3) Operatorul `not` are o precedență mai scăzută în evaluare decât operatorii non-Boolean, astfel că `not a == b` va fi interpretat ca `not (a == b)`.\n"
   ]
  },
  {
   "cell_type": "markdown",
   "metadata": {},
   "source": [
    "\n",
    "### Numere\n",
    "\n",
    "Numerele în Python sunt întregi din care fac parte și valorile boolean și cele care nu sunt întregi cum ar fi floats (c double), numere complexe, zecimale și raționale."
   ]
  },
  {
   "cell_type": "code",
   "execution_count": null,
   "metadata": {},
   "outputs": [],
   "source": []
  },
  {
   "cell_type": "markdown",
   "metadata": {},
   "source": [
    "### Text\n",
    "\n",
    "Python poate manipula foarte ușor și fragmente de text."
   ]
  },
  {
   "cell_type": "code",
   "execution_count": 4,
   "metadata": {},
   "outputs": [
    {
     "name": "stdout",
     "output_type": "stream",
     "text": [
      "tes\n",
      "s\n",
      "st\n"
     ]
    }
   ],
   "source": [
    "ceva = 'test'\n",
    "print(ceva[0:3])\n",
    "print(ceva[2])\n",
    "print(ceva[2:])"
   ]
  },
  {
   "cell_type": "markdown",
   "metadata": {},
   "source": [
    "După cum se observă, am putea extrage cu multă ușurință un subșir dintr-un fragment de text."
   ]
  },
  {
   "cell_type": "markdown",
   "metadata": {},
   "source": [
    "### Structuri de date - colecții\n",
    "\n",
    "**Secvențele** sunt colecții de valori care pot fi modificate (mutable) sau nu (imutable). Cele mutable sunt listele `[1,2,3]` și cele care nu sunt mutabile: `tuples` și `strings`.\n",
    "\n",
    "**Seturile** sunt și ele subîmpărțite în cele care pot fi modificate `Sets`, iar cele care nu pot fi modificate se numesc `Frozen Sets`.\n",
    "\n",
    "**Mapările** sau dicționarele sunt înrudite cu seturile pentru că ambele sunt, de fapt hashmaps. Diferența între acestea și seturi este că dicționarele sunt structuri cheie - valoare.\n",
    "\n",
    "### Callables - apelabile\n",
    "\n",
    "Acestea pot fi funcții definite de utilizator, generatoare, clase, instance methods, instanțe de clase care pot fi apelate (`__call__()`). Pe lângă toate acestea mai avem funcțiile built-in cum este `len()`, de exemplu și metode built-in (`lista_elemente.append(x)`).\n",
    "\n",
    "### Singleton-uri\n",
    "\n",
    "#### None\n",
    "\n",
    "Este un obiect unic folosit pentru a seta valoarea unei variabile atunci când este necesar.\n",
    "\n",
    "#### NotImplemented\n",
    "\n",
    "#### Elipsis(...)"
   ]
  },
  {
   "cell_type": "code",
   "execution_count": null,
   "metadata": {},
   "outputs": [],
   "source": []
  }
 ],
 "metadata": {
  "kernelspec": {
   "display_name": "Python 3",
   "language": "python",
   "name": "python3"
  },
  "language_info": {
   "codemirror_mode": {
    "name": "ipython",
    "version": 3
   },
   "file_extension": ".py",
   "mimetype": "text/x-python",
   "name": "python",
   "nbconvert_exporter": "python",
   "pygments_lexer": "ipython3",
   "version": "3.6.7"
  }
 },
 "nbformat": 4,
 "nbformat_minor": 2
}
